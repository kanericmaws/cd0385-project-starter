{
 "cells": [
  {
   "cell_type": "code",
   "execution_count": 1,
   "id": "b5fbbabf",
   "metadata": {
    "scrolled": true
   },
   "outputs": [
    {
     "name": "stdout",
     "output_type": "stream",
     "text": [
      "abc\n"
     ]
    }
   ],
   "source": [
    "# sanity check after restart the kernel\n",
    "\n",
    "print(\"abc\")"
   ]
  },
  {
   "cell_type": "code",
   "execution_count": null,
   "id": "905b3534",
   "metadata": {
    "scrolled": true
   },
   "outputs": [],
   "source": [
    "# create the .kaggle directory and an empty kaggle.json file\n",
    "# only need for running the first time\n",
    "\n",
    "# !mkdir -p .kaggle\n",
    "# !touch .kaggle/kaggle.json\n",
    "# !chmod 600 .kaggle/kaggle.json"
   ]
  },
  {
   "cell_type": "code",
   "execution_count": null,
   "id": "17303d2e",
   "metadata": {
    "scrolled": true
   },
   "outputs": [],
   "source": [
    "# Fill in your user name and key from creating the kaggle account and API token file\n",
    "#no need if credential is already in .kaggle/kaggle.json\n",
    "\n",
    "# import json\n",
    "# kaggle_username = \"kanericaws\"\n",
    "# kaggle_key = \"<kaggle_key>\"\n",
    "\n",
    "# # Save API token the kaggle.json file\n",
    "# with open(\"/root/.kaggle/kaggle.json\", \"w\") as f:\n",
    "#     f.write(json.dumps({\"username\": kaggle_username, \"key\": kaggle_key}))"
   ]
  },
  {
   "cell_type": "code",
   "execution_count": null,
   "id": "d481b04b",
   "metadata": {
    "scrolled": true
   },
   "outputs": [],
   "source": [
    "#only need for the first run\n",
    "#!kaggle competitions download -c bike-sharing-demand\n"
   ]
  },
  {
   "cell_type": "code",
   "execution_count": null,
   "id": "7db5481e",
   "metadata": {
    "scrolled": true
   },
   "outputs": [],
   "source": [
    "# If you already downloaded it you can use the -o command to overwrite the file\n",
    "#only need for the first run\n",
    "\n",
    "#!unzip -o bike-sharing-demand.zip"
   ]
  },
  {
   "cell_type": "code",
   "execution_count": 2,
   "id": "05c9866d",
   "metadata": {
    "scrolled": true
   },
   "outputs": [],
   "source": [
    "# load the dataset \n",
    "import pandas as pd\n",
    "from autogluon.tabular import TabularPredictor\n",
    "\n",
    "train = pd.read_csv(\"train.csv\")\n",
    "\n",
    "test = pd.read_csv(\"test.csv\")\n"
   ]
  },
  {
   "cell_type": "code",
   "execution_count": null,
   "id": "5a8a6032",
   "metadata": {
    "scrolled": true
   },
   "outputs": [],
   "source": [
    "test.head()"
   ]
  },
  {
   "cell_type": "code",
   "execution_count": null,
   "id": "018f7c36",
   "metadata": {
    "scrolled": true
   },
   "outputs": [],
   "source": [
    "train.head()\n"
   ]
  },
  {
   "cell_type": "code",
   "execution_count": 3,
   "id": "a7976b60",
   "metadata": {
    "scrolled": true
   },
   "outputs": [
    {
     "data": {
      "text/plain": [
       "array([[<AxesSubplot:title={'center':'season'}>,\n",
       "        <AxesSubplot:title={'center':'holiday'}>,\n",
       "        <AxesSubplot:title={'center':'workingday'}>],\n",
       "       [<AxesSubplot:title={'center':'weather'}>,\n",
       "        <AxesSubplot:title={'center':'temp'}>,\n",
       "        <AxesSubplot:title={'center':'atemp'}>],\n",
       "       [<AxesSubplot:title={'center':'humidity'}>,\n",
       "        <AxesSubplot:title={'center':'windspeed'}>,\n",
       "        <AxesSubplot:title={'center':'casual'}>],\n",
       "       [<AxesSubplot:title={'center':'registered'}>,\n",
       "        <AxesSubplot:title={'center':'count'}>, <AxesSubplot:>]],\n",
       "      dtype=object)"
      ]
     },
     "execution_count": 3,
     "metadata": {},
     "output_type": "execute_result"
    },
    {
     "data": {
      "image/png": "[encoded data removed]",
      "text/plain": [
       "<Figure size 432x288 with 12 Axes>"
      ]
     },
     "metadata": {
      "needs_background": "light"
     },
     "output_type": "display_data"
    }
   ],
   "source": [
    "train.hist()"
   ]
  },
  {
   "cell_type": "code",
   "execution_count": 5,
   "id": "eeddd6d3",
   "metadata": {
    "scrolled": true
   },
   "outputs": [],
   "source": [
    "#create additional features\n",
    "\n",
    "#convert str to datetime object\n",
    "#format='%Y%m%d-%H%M%S'\n",
    "#20210328-200000\n",
    "#df['DataFrame Column'] = pd.to_datetime(df['DataFrame Column'], format=specify your format)\n",
    "\n",
    "train['dt_obj'] =pd.to_datetime(train['datetime'], format='%Y-%m-%d %H:%M:%S')\n",
    "test['dt_obj'] =pd.to_datetime(test['datetime'], format='%Y-%m-%d %H:%M:%S')\n",
    "\n",
    "# create new features\n",
    "#df['Age Category'] = 'Over 30'\n",
    "#df.loc[df['Age'] < 30, 'Age Category'] = 'Under 30'\n",
    "# train['year'] = train['dt_obj'].dt.year\n",
    "# train['dt_obj'].dt.month = train['dt_obj'].dt.month\n",
    "# train['day'] = train['dt_obj'].dt.day\n",
    "# train['dt_obj'].dt.hour = train['dt_obj'].dt.hour\n",
    "# train['min'] = train['dt_obj'].dt.minute\n",
    "# train['second'] = train['dt_obj'].dt.second\n",
    "# train['dayofweek'] = train[\"dt_obj\"].dt.dayofweek\n",
    "\n",
    "# test['year'] = test['dt_obj'].dt.year\n",
    "# test['dt_obj'].dt.month = test['dt_obj'].dt.month\n",
    "# test['day'] = test['dt_obj'].dt.day\n",
    "# test['dt_obj'].dt.hour = test['dt_obj'].dt.hour\n",
    "# test['min'] = test['dt_obj'].dt.minute\n",
    "# test['second'] = test['dt_obj'].dt.second\n",
    "# test['dayofweek'] = test[\"dt_obj\"].dt.dayofweek\n",
    "\n",
    "train['season_label']=0\n",
    "\n",
    "#winter\n",
    "train.loc[train['dt_obj'].dt.month == 1 , 'season_label'] = 1\n",
    "train.loc[train['dt_obj'].dt.month == 2 , 'season_label'] = 1\n",
    "train.loc[train['dt_obj'].dt.month == 12 , 'season_label'] = 1\n",
    "#spring\n",
    "train.loc[train['dt_obj'].dt.month == 3 , 'season_label'] = 2\n",
    "train.loc[train['dt_obj'].dt.month == 4 , 'season_label'] = 2\n",
    "train.loc[train['dt_obj'].dt.month == 5 , 'season_label'] = 2\n",
    "#summer\n",
    "train.loc[train['dt_obj'].dt.month == 6 , 'season_label'] = 3\n",
    "train.loc[train['dt_obj'].dt.month == 7 , 'season_label'] = 3\n",
    "train.loc[train['dt_obj'].dt.month == 8 , 'season_label'] = 3\n",
    "\n",
    "#winter\n",
    "train.loc[train['dt_obj'].dt.month == 9, 'season_label'] = 4\n",
    "train.loc[train['dt_obj'].dt.month == 10 , 'season_label'] = 4\n",
    "train.loc[train['dt_obj'].dt.month == 11 , 'season_label'] = 4\n",
    "\n",
    "test['season_label']=0\n",
    "#winter\n",
    "test.loc[test['dt_obj'].dt.month == 1 , 'season_label'] = 1\n",
    "test.loc[test['dt_obj'].dt.month == 2 , 'season_label'] = 1\n",
    "test.loc[test['dt_obj'].dt.month == 12 , 'season_label'] = 1\n",
    "#spring\n",
    "test.loc[test['dt_obj'].dt.month == 3 , 'season_label'] = 2\n",
    "test.loc[test['dt_obj'].dt.month == 4 , 'season_label'] = 2\n",
    "test.loc[test['dt_obj'].dt.month == 5 , 'season_label'] = 2\n",
    "#summer\n",
    "test.loc[test['dt_obj'].dt.month == 6 , 'season_label'] = 3\n",
    "test.loc[test['dt_obj'].dt.month == 7 , 'season_label'] = 3\n",
    "test.loc[test['dt_obj'].dt.month == 8 , 'season_label'] = 3\n",
    "\n",
    "#winter\n",
    "test.loc[test['dt_obj'].dt.month == 9, 'season_label'] = 4\n",
    "test.loc[test['dt_obj'].dt.month == 10 , 'season_label'] = 4\n",
    "test.loc[test['dt_obj'].dt.month == 11 , 'season_label'] = 4\n",
    "\n",
    "#morning, lunch, and evening rush hour, 7-9am, 11am-1pm, and 5-6pm\n",
    "#hr_label\n",
    "train['hr_label']=0\n",
    "#7-9\n",
    "train.loc[train['dt_obj'].dt.hour == 7 , 'hr_label'] = 1\n",
    "train.loc[train['dt_obj'].dt.hour == 8 , 'hr_label'] = 1\n",
    "train.loc[train['dt_obj'].dt.hour == 9 , 'hr_label'] = 1\n",
    "#11-13\n",
    "train.loc[train['dt_obj'].dt.hour == 11 , 'hr_label'] = 2\n",
    "train.loc[train['dt_obj'].dt.hour == 12, 'hr_label'] = 2\n",
    "train.loc[train['dt_obj'].dt.hour == 13 , 'hr_label'] = 2\n",
    "#17-18\n",
    "train.loc[train['dt_obj'].dt.hour == 17 , 'hr_label'] = 3\n",
    "train.loc[train['dt_obj'].dt.hour == 18 , 'hr_label'] = 3\n",
    "\n",
    "\n",
    "\n",
    "#morning, lunch, and evening rush hour, 7-9am, 11am-1pm, and 5-6pm\n",
    "#hr_label\n",
    "test['hr_label']=0\n",
    "#7-9\n",
    "test.loc[test['dt_obj'].dt.hour == 7 , 'hr_label'] = 1\n",
    "test.loc[test['dt_obj'].dt.hour == 8 , 'hr_label'] = 1\n",
    "test.loc[test['dt_obj'].dt.hour == 9 , 'hr_label'] = 1\n",
    "#11-13\n",
    "test.loc[test['dt_obj'].dt.hour == 11 , 'hr_label'] = 2\n",
    "test.loc[test['dt_obj'].dt.hour == 12, 'hr_label'] = 2\n",
    "test.loc[test['dt_obj'].dt.hour == 13 , 'hr_label'] = 2\n",
    "#17-18\n",
    "test.loc[test['dt_obj'].dt.hour == 17 , 'hr_label'] = 3\n",
    "test.loc[test['dt_obj'].dt.hour == 18 , 'hr_label'] = 3\n",
    "\n",
    "test['temp_label']=0\n",
    "#cold\n",
    "test.loc[test['temp'] <15  , 'temp_label'] = 1\n",
    "#mild\n",
    "test.loc[((test['temp'] >= 15) &( test['temp'] <= 26)), 'temp_label'] = 2\n",
    "#hot\n",
    "test.loc[test['temp'] > 26 , 'temp_label'] = 3\n",
    "\n",
    "train['temp_label']=0\n",
    "#cold\n",
    "train.loc[train['temp'] <15  , 'temp_label'] = 1\n",
    "#mild\n",
    "train.loc[((train['temp'] >= 15) &( train['temp'] <= 26)), 'temp_label'] = 2\n",
    "#hot\n",
    "train.loc[train['temp'] > 26 , 'temp_label'] = 3\n",
    "\n",
    "\n",
    "train['hum_label']=0\n",
    "#not-hum\n",
    "train.loc[train['humidity'] <55  , 'hum_label'] = 1\n",
    "#hum\n",
    "train.loc[(train['humidity'] >= 55), 'hum_label'] = 2\n",
    "\n",
    "\n",
    "test['hum_label']=0\n",
    "#not-hum\n",
    "test.loc[test['humidity'] <55  , 'hum_label'] = 1\n",
    "#hum\n",
    "test.loc[(test['humidity'] >= 55), 'hum_label'] = 2\n",
    "\n",
    "test['windspeed']=0\n",
    "#not-windy\n",
    "test.loc[test['windspeed'] <20  , 'windspeed_label'] = 1\n",
    "#windy\n",
    "test.loc[(test['windspeed'] >= 20), 'windspeed_label'] = 2\n",
    "\n",
    "train['windspeed_label']=0\n",
    "#not-windy\n",
    "train.loc[train['windspeed'] <20  , 'windspeed_label'] = 1\n",
    "#windy\n",
    "train.loc[(train['windspeed'] >= 20), 'windspeed_label'] = 2\n",
    "\n",
    "\n",
    "\n"
   ]
  },
  {
   "cell_type": "code",
   "execution_count": 6,
   "id": "050cb318",
   "metadata": {
    "scrolled": true
   },
   "outputs": [
    {
     "data": {
      "text/html": [
       "<div>\n",
       "<style scoped>\n",
       "    .dataframe tbody tr th:only-of-type {\n",
       "        vertical-align: middle;\n",
       "    }\n",
       "\n",
       "    .dataframe tbody tr th {\n",
       "        vertical-align: top;\n",
       "    }\n",
       "\n",
       "    .dataframe thead th {\n",
       "        text-align: right;\n",
       "    }\n",
       "</style>\n",
       "<table border=\"1\" class=\"dataframe\">\n",
       "  <thead>\n",
       "    <tr style=\"text-align: right;\">\n",
       "      <th></th>\n",
       "      <th>season</th>\n",
       "      <th>holiday</th>\n",
       "      <th>workingday</th>\n",
       "      <th>weather</th>\n",
       "      <th>temp</th>\n",
       "      <th>atemp</th>\n",
       "      <th>humidity</th>\n",
       "      <th>windspeed</th>\n",
       "      <th>casual</th>\n",
       "      <th>registered</th>\n",
       "      <th>count</th>\n",
       "      <th>season_label</th>\n",
       "      <th>hr_label</th>\n",
       "      <th>temp_label</th>\n",
       "      <th>hum_label</th>\n",
       "      <th>windspeed_label</th>\n",
       "    </tr>\n",
       "  </thead>\n",
       "  <tbody>\n",
       "    <tr>\n",
       "      <th>count</th>\n",
       "      <td>10886.000000</td>\n",
       "      <td>10886.000000</td>\n",
       "      <td>10886.000000</td>\n",
       "      <td>10886.000000</td>\n",
       "      <td>10886.00000</td>\n",
       "      <td>10886.000000</td>\n",
       "      <td>10886.000000</td>\n",
       "      <td>10886.000000</td>\n",
       "      <td>10886.000000</td>\n",
       "      <td>10886.000000</td>\n",
       "      <td>10886.000000</td>\n",
       "      <td>10886.000000</td>\n",
       "      <td>10886.000000</td>\n",
       "      <td>10886.000000</td>\n",
       "      <td>10886.000000</td>\n",
       "      <td>10886.000000</td>\n",
       "    </tr>\n",
       "    <tr>\n",
       "      <th>mean</th>\n",
       "      <td>2.506614</td>\n",
       "      <td>0.028569</td>\n",
       "      <td>0.680875</td>\n",
       "      <td>1.418427</td>\n",
       "      <td>20.23086</td>\n",
       "      <td>23.655084</td>\n",
       "      <td>61.886460</td>\n",
       "      <td>12.799395</td>\n",
       "      <td>36.021955</td>\n",
       "      <td>155.552177</td>\n",
       "      <td>191.574132</td>\n",
       "      <td>2.505328</td>\n",
       "      <td>0.627871</td>\n",
       "      <td>1.972625</td>\n",
       "      <td>1.621808</td>\n",
       "      <td>1.137332</td>\n",
       "    </tr>\n",
       "    <tr>\n",
       "      <th>std</th>\n",
       "      <td>1.116174</td>\n",
       "      <td>0.166599</td>\n",
       "      <td>0.466159</td>\n",
       "      <td>0.633839</td>\n",
       "      <td>7.79159</td>\n",
       "      <td>8.474601</td>\n",
       "      <td>19.245033</td>\n",
       "      <td>8.164537</td>\n",
       "      <td>49.960477</td>\n",
       "      <td>151.039033</td>\n",
       "      <td>181.144454</td>\n",
       "      <td>1.116839</td>\n",
       "      <td>0.993757</td>\n",
       "      <td>0.771557</td>\n",
       "      <td>0.484958</td>\n",
       "      <td>0.344214</td>\n",
       "    </tr>\n",
       "    <tr>\n",
       "      <th>min</th>\n",
       "      <td>1.000000</td>\n",
       "      <td>0.000000</td>\n",
       "      <td>0.000000</td>\n",
       "      <td>1.000000</td>\n",
       "      <td>0.82000</td>\n",
       "      <td>0.760000</td>\n",
       "      <td>0.000000</td>\n",
       "      <td>0.000000</td>\n",
       "      <td>0.000000</td>\n",
       "      <td>0.000000</td>\n",
       "      <td>1.000000</td>\n",
       "      <td>1.000000</td>\n",
       "      <td>0.000000</td>\n",
       "      <td>1.000000</td>\n",
       "      <td>1.000000</td>\n",
       "      <td>1.000000</td>\n",
       "    </tr>\n",
       "    <tr>\n",
       "      <th>25%</th>\n",
       "      <td>2.000000</td>\n",
       "      <td>0.000000</td>\n",
       "      <td>0.000000</td>\n",
       "      <td>1.000000</td>\n",
       "      <td>13.94000</td>\n",
       "      <td>16.665000</td>\n",
       "      <td>47.000000</td>\n",
       "      <td>7.001500</td>\n",
       "      <td>4.000000</td>\n",
       "      <td>36.000000</td>\n",
       "      <td>42.000000</td>\n",
       "      <td>2.000000</td>\n",
       "      <td>0.000000</td>\n",
       "      <td>1.000000</td>\n",
       "      <td>1.000000</td>\n",
       "      <td>1.000000</td>\n",
       "    </tr>\n",
       "    <tr>\n",
       "      <th>50%</th>\n",
       "      <td>3.000000</td>\n",
       "      <td>0.000000</td>\n",
       "      <td>1.000000</td>\n",
       "      <td>1.000000</td>\n",
       "      <td>20.50000</td>\n",
       "      <td>24.240000</td>\n",
       "      <td>62.000000</td>\n",
       "      <td>12.998000</td>\n",
       "      <td>17.000000</td>\n",
       "      <td>118.000000</td>\n",
       "      <td>145.000000</td>\n",
       "      <td>3.000000</td>\n",
       "      <td>0.000000</td>\n",
       "      <td>2.000000</td>\n",
       "      <td>2.000000</td>\n",
       "      <td>1.000000</td>\n",
       "    </tr>\n",
       "    <tr>\n",
       "      <th>75%</th>\n",
       "      <td>4.000000</td>\n",
       "      <td>0.000000</td>\n",
       "      <td>1.000000</td>\n",
       "      <td>2.000000</td>\n",
       "      <td>26.24000</td>\n",
       "      <td>31.060000</td>\n",
       "      <td>77.000000</td>\n",
       "      <td>16.997900</td>\n",
       "      <td>49.000000</td>\n",
       "      <td>222.000000</td>\n",
       "      <td>284.000000</td>\n",
       "      <td>4.000000</td>\n",
       "      <td>1.000000</td>\n",
       "      <td>3.000000</td>\n",
       "      <td>2.000000</td>\n",
       "      <td>1.000000</td>\n",
       "    </tr>\n",
       "    <tr>\n",
       "      <th>max</th>\n",
       "      <td>4.000000</td>\n",
       "      <td>1.000000</td>\n",
       "      <td>1.000000</td>\n",
       "      <td>4.000000</td>\n",
       "      <td>41.00000</td>\n",
       "      <td>45.455000</td>\n",
       "      <td>100.000000</td>\n",
       "      <td>56.996900</td>\n",
       "      <td>367.000000</td>\n",
       "      <td>886.000000</td>\n",
       "      <td>977.000000</td>\n",
       "      <td>4.000000</td>\n",
       "      <td>3.000000</td>\n",
       "      <td>3.000000</td>\n",
       "      <td>2.000000</td>\n",
       "      <td>2.000000</td>\n",
       "    </tr>\n",
       "  </tbody>\n",
       "</table>\n",
       "</div>"
      ],
      "text/plain": [
       "             season       holiday    workingday       weather         temp  \\\n",
       "count  10886.000000  10886.000000  10886.000000  10886.000000  10886.00000   \n",
       "mean       2.506614      0.028569      0.680875      1.418427     20.23086   \n",
       "std        1.116174      0.166599      0.466159      0.633839      7.79159   \n",
       "min        1.000000      0.000000      0.000000      1.000000      0.82000   \n",
       "25%        2.000000      0.000000      0.000000      1.000000     13.94000   \n",
       "50%        3.000000      0.000000      1.000000      1.000000     20.50000   \n",
       "75%        4.000000      0.000000      1.000000      2.000000     26.24000   \n",
       "max        4.000000      1.000000      1.000000      4.000000     41.00000   \n",
       "\n",
       "              atemp      humidity     windspeed        casual    registered  \\\n",
       "count  10886.000000  10886.000000  10886.000000  10886.000000  10886.000000   \n",
       "mean      23.655084     61.886460     12.799395     36.021955    155.552177   \n",
       "std        8.474601     19.245033      8.164537     49.960477    151.039033   \n",
       "min        0.760000      0.000000      0.000000      0.000000      0.000000   \n",
       "25%       16.665000     47.000000      7.001500      4.000000     36.000000   \n",
       "50%       24.240000     62.000000     12.998000     17.000000    118.000000   \n",
       "75%       31.060000     77.000000     16.997900     49.000000    222.000000   \n",
       "max       45.455000    100.000000     56.996900    367.000000    886.000000   \n",
       "\n",
       "              count  season_label      hr_label    temp_label     hum_label  \\\n",
       "count  10886.000000  10886.000000  10886.000000  10886.000000  10886.000000   \n",
       "mean     191.574132      2.505328      0.627871      1.972625      1.621808   \n",
       "std      181.144454      1.116839      0.993757      0.771557      0.484958   \n",
       "min        1.000000      1.000000      0.000000      1.000000      1.000000   \n",
       "25%       42.000000      2.000000      0.000000      1.000000      1.000000   \n",
       "50%      145.000000      3.000000      0.000000      2.000000      2.000000   \n",
       "75%      284.000000      4.000000      1.000000      3.000000      2.000000   \n",
       "max      977.000000      4.000000      3.000000      3.000000      2.000000   \n",
       "\n",
       "       windspeed_label  \n",
       "count     10886.000000  \n",
       "mean          1.137332  \n",
       "std           0.344214  \n",
       "min           1.000000  \n",
       "25%           1.000000  \n",
       "50%           1.000000  \n",
       "75%           1.000000  \n",
       "max           2.000000  "
      ]
     },
     "execution_count": 6,
     "metadata": {},
     "output_type": "execute_result"
    }
   ],
   "source": [
    "#sanity check\n",
    "train.describe()"
   ]
  },
  {
   "cell_type": "code",
   "execution_count": 7,
   "id": "34bf7272",
   "metadata": {
    "scrolled": true
   },
   "outputs": [],
   "source": [
    "# Change weather column to a category \n",
    "\n",
    "train.loc[:, \"season_label\"] = train[\"season_label\"].astype(\"category\")\n",
    "train.loc[:, \"hr_label\"] = train[\"hr_label\"].astype(\"category\")\n",
    "train.loc[:, \"temp_label\"] = train[\"temp_label\"].astype(\"category\")\n",
    "train.loc[:, \"hum_label\"] = train[\"hum_label\"].astype(\"category\")\n",
    "train.loc[:, \"windspeed_label\"] = train[\"windspeed_label\"].astype(\"category\")\n",
    "\n",
    "test.loc[:, \"season_label\"] = test[\"season_label\"].astype(\"category\")\n",
    "test.loc[:, \"hr_label\"] = test[\"hr_label\"].astype(\"category\")\n",
    "test.loc[:, \"temp_label\"] = test[\"temp_label\"].astype(\"category\")\n",
    "test.loc[:, \"hum_label\"] = test[\"hum_label\"].astype(\"category\")\n",
    "test.loc[:, \"windspeed_label\"] = test[\"windspeed_label\"].astype(\"category\")\n"
   ]
  },
  {
   "cell_type": "code",
   "execution_count": 8,
   "id": "871a2da0",
   "metadata": {
    "scrolled": true
   },
   "outputs": [
    {
     "data": {
      "text/html": [
       "<div>\n",
       "<style scoped>\n",
       "    .dataframe tbody tr th:only-of-type {\n",
       "        vertical-align: middle;\n",
       "    }\n",
       "\n",
       "    .dataframe tbody tr th {\n",
       "        vertical-align: top;\n",
       "    }\n",
       "\n",
       "    .dataframe thead th {\n",
       "        text-align: right;\n",
       "    }\n",
       "</style>\n",
       "<table border=\"1\" class=\"dataframe\">\n",
       "  <thead>\n",
       "    <tr style=\"text-align: right;\">\n",
       "      <th></th>\n",
       "      <th>season</th>\n",
       "      <th>holiday</th>\n",
       "      <th>workingday</th>\n",
       "      <th>weather</th>\n",
       "      <th>temp</th>\n",
       "      <th>atemp</th>\n",
       "      <th>humidity</th>\n",
       "      <th>windspeed</th>\n",
       "      <th>casual</th>\n",
       "      <th>registered</th>\n",
       "      <th>count</th>\n",
       "    </tr>\n",
       "  </thead>\n",
       "  <tbody>\n",
       "    <tr>\n",
       "      <th>count</th>\n",
       "      <td>10886.000000</td>\n",
       "      <td>10886.000000</td>\n",
       "      <td>10886.000000</td>\n",
       "      <td>10886.000000</td>\n",
       "      <td>10886.00000</td>\n",
       "      <td>10886.000000</td>\n",
       "      <td>10886.000000</td>\n",
       "      <td>10886.000000</td>\n",
       "      <td>10886.000000</td>\n",
       "      <td>10886.000000</td>\n",
       "      <td>10886.000000</td>\n",
       "    </tr>\n",
       "    <tr>\n",
       "      <th>mean</th>\n",
       "      <td>2.506614</td>\n",
       "      <td>0.028569</td>\n",
       "      <td>0.680875</td>\n",
       "      <td>1.418427</td>\n",
       "      <td>20.23086</td>\n",
       "      <td>23.655084</td>\n",
       "      <td>61.886460</td>\n",
       "      <td>12.799395</td>\n",
       "      <td>36.021955</td>\n",
       "      <td>155.552177</td>\n",
       "      <td>191.574132</td>\n",
       "    </tr>\n",
       "    <tr>\n",
       "      <th>std</th>\n",
       "      <td>1.116174</td>\n",
       "      <td>0.166599</td>\n",
       "      <td>0.466159</td>\n",
       "      <td>0.633839</td>\n",
       "      <td>7.79159</td>\n",
       "      <td>8.474601</td>\n",
       "      <td>19.245033</td>\n",
       "      <td>8.164537</td>\n",
       "      <td>49.960477</td>\n",
       "      <td>151.039033</td>\n",
       "      <td>181.144454</td>\n",
       "    </tr>\n",
       "    <tr>\n",
       "      <th>min</th>\n",
       "      <td>1.000000</td>\n",
       "      <td>0.000000</td>\n",
       "      <td>0.000000</td>\n",
       "      <td>1.000000</td>\n",
       "      <td>0.82000</td>\n",
       "      <td>0.760000</td>\n",
       "      <td>0.000000</td>\n",
       "      <td>0.000000</td>\n",
       "      <td>0.000000</td>\n",
       "      <td>0.000000</td>\n",
       "      <td>1.000000</td>\n",
       "    </tr>\n",
       "    <tr>\n",
       "      <th>25%</th>\n",
       "      <td>2.000000</td>\n",
       "      <td>0.000000</td>\n",
       "      <td>0.000000</td>\n",
       "      <td>1.000000</td>\n",
       "      <td>13.94000</td>\n",
       "      <td>16.665000</td>\n",
       "      <td>47.000000</td>\n",
       "      <td>7.001500</td>\n",
       "      <td>4.000000</td>\n",
       "      <td>36.000000</td>\n",
       "      <td>42.000000</td>\n",
       "    </tr>\n",
       "    <tr>\n",
       "      <th>50%</th>\n",
       "      <td>3.000000</td>\n",
       "      <td>0.000000</td>\n",
       "      <td>1.000000</td>\n",
       "      <td>1.000000</td>\n",
       "      <td>20.50000</td>\n",
       "      <td>24.240000</td>\n",
       "      <td>62.000000</td>\n",
       "      <td>12.998000</td>\n",
       "      <td>17.000000</td>\n",
       "      <td>118.000000</td>\n",
       "      <td>145.000000</td>\n",
       "    </tr>\n",
       "    <tr>\n",
       "      <th>75%</th>\n",
       "      <td>4.000000</td>\n",
       "      <td>0.000000</td>\n",
       "      <td>1.000000</td>\n",
       "      <td>2.000000</td>\n",
       "      <td>26.24000</td>\n",
       "      <td>31.060000</td>\n",
       "      <td>77.000000</td>\n",
       "      <td>16.997900</td>\n",
       "      <td>49.000000</td>\n",
       "      <td>222.000000</td>\n",
       "      <td>284.000000</td>\n",
       "    </tr>\n",
       "    <tr>\n",
       "      <th>max</th>\n",
       "      <td>4.000000</td>\n",
       "      <td>1.000000</td>\n",
       "      <td>1.000000</td>\n",
       "      <td>4.000000</td>\n",
       "      <td>41.00000</td>\n",
       "      <td>45.455000</td>\n",
       "      <td>100.000000</td>\n",
       "      <td>56.996900</td>\n",
       "      <td>367.000000</td>\n",
       "      <td>886.000000</td>\n",
       "      <td>977.000000</td>\n",
       "    </tr>\n",
       "  </tbody>\n",
       "</table>\n",
       "</div>"
      ],
      "text/plain": [
       "             season       holiday    workingday       weather         temp  \\\n",
       "count  10886.000000  10886.000000  10886.000000  10886.000000  10886.00000   \n",
       "mean       2.506614      0.028569      0.680875      1.418427     20.23086   \n",
       "std        1.116174      0.166599      0.466159      0.633839      7.79159   \n",
       "min        1.000000      0.000000      0.000000      1.000000      0.82000   \n",
       "25%        2.000000      0.000000      0.000000      1.000000     13.94000   \n",
       "50%        3.000000      0.000000      1.000000      1.000000     20.50000   \n",
       "75%        4.000000      0.000000      1.000000      2.000000     26.24000   \n",
       "max        4.000000      1.000000      1.000000      4.000000     41.00000   \n",
       "\n",
       "              atemp      humidity     windspeed        casual    registered  \\\n",
       "count  10886.000000  10886.000000  10886.000000  10886.000000  10886.000000   \n",
       "mean      23.655084     61.886460     12.799395     36.021955    155.552177   \n",
       "std        8.474601     19.245033      8.164537     49.960477    151.039033   \n",
       "min        0.760000      0.000000      0.000000      0.000000      0.000000   \n",
       "25%       16.665000     47.000000      7.001500      4.000000     36.000000   \n",
       "50%       24.240000     62.000000     12.998000     17.000000    118.000000   \n",
       "75%       31.060000     77.000000     16.997900     49.000000    222.000000   \n",
       "max       45.455000    100.000000     56.996900    367.000000    886.000000   \n",
       "\n",
       "              count  \n",
       "count  10886.000000  \n",
       "mean     191.574132  \n",
       "std      181.144454  \n",
       "min        1.000000  \n",
       "25%       42.000000  \n",
       "50%      145.000000  \n",
       "75%      284.000000  \n",
       "max      977.000000  "
      ]
     },
     "execution_count": 8,
     "metadata": {},
     "output_type": "execute_result"
    }
   ],
   "source": [
    "train.describe()"
   ]
  },
  {
   "cell_type": "code",
   "execution_count": 9,
   "id": "a84b28ae",
   "metadata": {
    "scrolled": true
   },
   "outputs": [
    {
     "name": "stdout",
     "output_type": "stream",
     "text": [
      "<class 'pandas.core.frame.DataFrame'>\n",
      "RangeIndex: 10886 entries, 0 to 10885\n",
      "Data columns (total 18 columns):\n",
      " #   Column           Non-Null Count  Dtype         \n",
      "---  ------           --------------  -----         \n",
      " 0   datetime         10886 non-null  object        \n",
      " 1   season           10886 non-null  int64         \n",
      " 2   holiday          10886 non-null  int64         \n",
      " 3   workingday       10886 non-null  int64         \n",
      " 4   weather          10886 non-null  int64         \n",
      " 5   temp             10886 non-null  float64       \n",
      " 6   atemp            10886 non-null  float64       \n",
      " 7   humidity         10886 non-null  int64         \n",
      " 8   windspeed        10886 non-null  float64       \n",
      " 9   casual           10886 non-null  int64         \n",
      " 10  registered       10886 non-null  int64         \n",
      " 11  count            10886 non-null  int64         \n",
      " 12  dt_obj           10886 non-null  datetime64[ns]\n",
      " 13  season_label     10886 non-null  category      \n",
      " 14  hr_label         10886 non-null  category      \n",
      " 15  temp_label       10886 non-null  category      \n",
      " 16  hum_label        10886 non-null  category      \n",
      " 17  windspeed_label  10886 non-null  category      \n",
      "dtypes: category(5), datetime64[ns](1), float64(3), int64(8), object(1)\n",
      "memory usage: 1.1+ MB\n"
     ]
    }
   ],
   "source": [
    "#sanity check\n",
    "train.info()"
   ]
  },
  {
   "cell_type": "code",
   "execution_count": 10,
   "id": "8814d3d1",
   "metadata": {
    "scrolled": true
   },
   "outputs": [
    {
     "name": "stdout",
     "output_type": "stream",
     "text": [
      "<class 'pandas.core.frame.DataFrame'>\n",
      "RangeIndex: 6493 entries, 0 to 6492\n",
      "Data columns (total 15 columns):\n",
      " #   Column           Non-Null Count  Dtype         \n",
      "---  ------           --------------  -----         \n",
      " 0   datetime         6493 non-null   object        \n",
      " 1   season           6493 non-null   int64         \n",
      " 2   holiday          6493 non-null   int64         \n",
      " 3   workingday       6493 non-null   int64         \n",
      " 4   weather          6493 non-null   int64         \n",
      " 5   temp             6493 non-null   float64       \n",
      " 6   atemp            6493 non-null   float64       \n",
      " 7   humidity         6493 non-null   int64         \n",
      " 8   windspeed        6493 non-null   int64         \n",
      " 9   dt_obj           6493 non-null   datetime64[ns]\n",
      " 10  season_label     6493 non-null   category      \n",
      " 11  hr_label         6493 non-null   category      \n",
      " 12  temp_label       6493 non-null   category      \n",
      " 13  hum_label        6493 non-null   category      \n",
      " 14  windspeed_label  6493 non-null   category      \n",
      "dtypes: category(5), datetime64[ns](1), float64(2), int64(6), object(1)\n",
      "memory usage: 539.9+ KB\n"
     ]
    }
   ],
   "source": [
    "test.info()"
   ]
  },
  {
   "cell_type": "code",
   "execution_count": 11,
   "id": "29c7fcef",
   "metadata": {
    "scrolled": true
   },
   "outputs": [],
   "source": [
    "#train registered and casual riders seperately\n",
    "train_c=train\n",
    "train_c = train_c.drop('registered',axis=1)\n",
    "train_c = train_c.drop('count',axis=1)\n",
    "\n",
    "train_r=train\n",
    "train_r = train_r.drop('casual',axis=1)\n",
    "train_r = train_r.drop('count',axis=1)\n"
   ]
  },
  {
   "cell_type": "code",
   "execution_count": 12,
   "id": "356e4d59",
   "metadata": {
    "scrolled": true
   },
   "outputs": [],
   "source": [
    "train_r = train_r.drop('datetime',axis=1)\n",
    "#train_r = train_r.drop('dt_obj',axis=1)\n",
    "\n",
    "train_c = train_c.drop('datetime',axis=1)\n",
    "#train_c = train_c.drop('dt_obj',axis=1)\n",
    "\n",
    "test = test.drop('datetime',axis=1)\n",
    "#test = test.drop('dt_obj',axis=1)\n",
    "\n"
   ]
  },
  {
   "cell_type": "code",
   "execution_count": 13,
   "id": "90c5b181",
   "metadata": {
    "scrolled": true
   },
   "outputs": [
    {
     "name": "stdout",
     "output_type": "stream",
     "text": [
      "<class 'pandas.core.frame.DataFrame'>\n",
      "RangeIndex: 10886 entries, 0 to 10885\n",
      "Data columns (total 15 columns):\n",
      " #   Column           Non-Null Count  Dtype         \n",
      "---  ------           --------------  -----         \n",
      " 0   season           10886 non-null  int64         \n",
      " 1   holiday          10886 non-null  int64         \n",
      " 2   workingday       10886 non-null  int64         \n",
      " 3   weather          10886 non-null  int64         \n",
      " 4   temp             10886 non-null  float64       \n",
      " 5   atemp            10886 non-null  float64       \n",
      " 6   humidity         10886 non-null  int64         \n",
      " 7   windspeed        10886 non-null  float64       \n",
      " 8   casual           10886 non-null  int64         \n",
      " 9   dt_obj           10886 non-null  datetime64[ns]\n",
      " 10  season_label     10886 non-null  category      \n",
      " 11  hr_label         10886 non-null  category      \n",
      " 12  temp_label       10886 non-null  category      \n",
      " 13  hum_label        10886 non-null  category      \n",
      " 14  windspeed_label  10886 non-null  category      \n",
      "dtypes: category(5), datetime64[ns](1), float64(3), int64(6)\n",
      "memory usage: 904.5 KB\n"
     ]
    }
   ],
   "source": [
    "#sanity check\n",
    "train_c.info()"
   ]
  },
  {
   "cell_type": "code",
   "execution_count": 14,
   "id": "cebbe66a",
   "metadata": {
    "scrolled": true
   },
   "outputs": [
    {
     "name": "stdout",
     "output_type": "stream",
     "text": [
      "<class 'pandas.core.frame.DataFrame'>\n",
      "RangeIndex: 10886 entries, 0 to 10885\n",
      "Data columns (total 15 columns):\n",
      " #   Column           Non-Null Count  Dtype         \n",
      "---  ------           --------------  -----         \n",
      " 0   season           10886 non-null  int64         \n",
      " 1   holiday          10886 non-null  int64         \n",
      " 2   workingday       10886 non-null  int64         \n",
      " 3   weather          10886 non-null  int64         \n",
      " 4   temp             10886 non-null  float64       \n",
      " 5   atemp            10886 non-null  float64       \n",
      " 6   humidity         10886 non-null  int64         \n",
      " 7   windspeed        10886 non-null  float64       \n",
      " 8   registered       10886 non-null  int64         \n",
      " 9   dt_obj           10886 non-null  datetime64[ns]\n",
      " 10  season_label     10886 non-null  category      \n",
      " 11  hr_label         10886 non-null  category      \n",
      " 12  temp_label       10886 non-null  category      \n",
      " 13  hum_label        10886 non-null  category      \n",
      " 14  windspeed_label  10886 non-null  category      \n",
      "dtypes: category(5), datetime64[ns](1), float64(3), int64(6)\n",
      "memory usage: 904.5 KB\n"
     ]
    }
   ],
   "source": [
    "#sanity check\n",
    "train_r.info()"
   ]
  },
  {
   "cell_type": "code",
   "execution_count": 15,
   "id": "ec362180",
   "metadata": {
    "scrolled": true
   },
   "outputs": [
    {
     "name": "stdout",
     "output_type": "stream",
     "text": [
      "<class 'pandas.core.frame.DataFrame'>\n",
      "RangeIndex: 6493 entries, 0 to 6492\n",
      "Data columns (total 14 columns):\n",
      " #   Column           Non-Null Count  Dtype         \n",
      "---  ------           --------------  -----         \n",
      " 0   season           6493 non-null   int64         \n",
      " 1   holiday          6493 non-null   int64         \n",
      " 2   workingday       6493 non-null   int64         \n",
      " 3   weather          6493 non-null   int64         \n",
      " 4   temp             6493 non-null   float64       \n",
      " 5   atemp            6493 non-null   float64       \n",
      " 6   humidity         6493 non-null   int64         \n",
      " 7   windspeed        6493 non-null   int64         \n",
      " 8   dt_obj           6493 non-null   datetime64[ns]\n",
      " 9   season_label     6493 non-null   category      \n",
      " 10  hr_label         6493 non-null   category      \n",
      " 11  temp_label       6493 non-null   category      \n",
      " 12  hum_label        6493 non-null   category      \n",
      " 13  windspeed_label  6493 non-null   category      \n",
      "dtypes: category(5), datetime64[ns](1), float64(2), int64(6)\n",
      "memory usage: 489.1 KB\n"
     ]
    }
   ],
   "source": [
    "#sanity check\n",
    "test.info()"
   ]
  },
  {
   "cell_type": "code",
   "execution_count": null,
   "id": "1abdd57a",
   "metadata": {
    "scrolled": false
   },
   "outputs": [],
   "source": [
    "#https://auto.gluon.ai/dev/tutorials/tabular_prediction/tabular-indepth.html\n",
    "predictor_r = TabularPredictor(label=\"registered\",problem_type=\"regression\",eval_metric=\"r2\").fit(\n",
    "    train_data=train_r, time_limit=300, num_bag_folds=10, num_bag_sets=1, num_stack_levels=3\n",
    ")\n",
    "# predictor_r = TabularPredictor(label='registered', eval_metric='r2').fit(train_r,\n",
    "#     num_bag_folds=10, num_bag_sets=1, num_stack_levels=3\n",
    "#     #hyperparameters = {'NN_TORCH': {'num_epochs': 20}, 'GBM': {'num_boost_round': 200}}  # last  argument is just for quick demo here, omit it in real applications\n",
    "# )"
   ]
  },
  {
   "cell_type": "code",
   "execution_count": null,
   "id": "30e660db",
   "metadata": {
    "scrolled": true
   },
   "outputs": [],
   "source": [
    "train_r.nunique()"
   ]
  },
  {
   "cell_type": "code",
   "execution_count": null,
   "id": "6403b73c",
   "metadata": {
    "scrolled": true
   },
   "outputs": [],
   "source": [
    "train_c.nunique()"
   ]
  },
  {
   "cell_type": "code",
   "execution_count": null,
   "id": "57e1a2d8",
   "metadata": {
    "scrolled": true
   },
   "outputs": [],
   "source": [
    "train_r.describe()"
   ]
  },
  {
   "cell_type": "code",
   "execution_count": null,
   "id": "c80a5a54",
   "metadata": {
    "scrolled": true
   },
   "outputs": [],
   "source": [
    "#https://auto.gluon.ai/dev/tutorials/tabular_prediction/tabular-indepth.html\n",
    "predictor_c = TabularPredictor(label='casual',problem_type=\"regression\", eval_metric='r2').fit(train_c,\n",
    "    num_bag_folds=10, num_bag_sets=1, num_stack_levels=3,time_limit=300\n",
    "    #hyperparameters = {'NN_TORCH': {'num_epochs': 20}, 'GBM': {'num_boost_round': 200}},  # last  argument is just for quick demo here, omit it in real applications\n",
    ")"
   ]
  },
  {
   "cell_type": "code",
   "execution_count": null,
   "id": "5bbcf791",
   "metadata": {
    "scrolled": true
   },
   "outputs": [],
   "source": [
    "predictor_r = TabularPredictor.load(\"AutogluonModels/ag-20220901_071344\")"
   ]
  },
  {
   "cell_type": "code",
   "execution_count": null,
   "id": "66223119",
   "metadata": {},
   "outputs": [],
   "source": [
    "predictor_c = TabularPredictor.load(\"AutogluonModels/ag-20220901_070455\")"
   ]
  },
  {
   "cell_type": "code",
   "execution_count": null,
   "id": "a14f2ab6",
   "metadata": {},
   "outputs": [],
   "source": [
    "y_pred_r = predictor_r.predict(test)\n"
   ]
  },
  {
   "cell_type": "code",
   "execution_count": null,
   "id": "9ab223bc",
   "metadata": {},
   "outputs": [],
   "source": [
    "y_pred_c = predictor_c.predict(test)\n"
   ]
  },
  {
   "cell_type": "code",
   "execution_count": null,
   "id": "657e17b7",
   "metadata": {},
   "outputs": [],
   "source": [
    "y_pred_r"
   ]
  },
  {
   "cell_type": "code",
   "execution_count": 16,
   "id": "74c7aa10",
   "metadata": {
    "scrolled": true
   },
   "outputs": [
    {
     "name": "stderr",
     "output_type": "stream",
     "text": [
      "No path specified. Models will be saved in: \"AutogluonModels/ag-20220901_111043\\\"\n",
      "Presets specified: ['best_quality']\n",
      "Stack configuration (auto_stack=True): num_stack_levels=1, num_bag_folds=8, num_bag_sets=20\n",
      "Beginning AutoGluon training ... Time limit = 180s\n",
      "AutoGluon will save models to \"AutogluonModels/ag-20220901_111043\\\"\n",
      "AutoGluon Version:  0.5.2\n",
      "Python Version:     3.9.12\n",
      "Operating System:   Windows\n",
      "Train Data Rows:    10886\n",
      "Train Data Columns: 14\n",
      "Label Column: casual\n",
      "Preprocessing data ...\n",
      "Using Feature Generators to preprocess the data ...\n",
      "Fitting AutoMLPipelineFeatureGenerator...\n",
      "\tAvailable Memory:                    5544.07 MB\n",
      "\tTrain Data (Original)  Memory Usage: 0.84 MB (0.0% of available memory)\n",
      "\tInferring data type of each feature based on column values. Set feature_metadata_in to manually specify special dtypes of the features.\n",
      "\tStage 1 Generators:\n",
      "\t\tFitting AsTypeFeatureGenerator...\n",
      "\t\t\tNote: Converting 4 features to boolean dtype as they only contain 2 unique values.\n",
      "\tStage 2 Generators:\n",
      "\t\tFitting FillNaFeatureGenerator...\n",
      "\tStage 3 Generators:\n",
      "\t\tFitting IdentityFeatureGenerator...\n",
      "\t\tFitting CategoryFeatureGenerator...\n",
      "\t\t\tFitting CategoryMemoryMinimizeFeatureGenerator...\n",
      "\t\tFitting DatetimeFeatureGenerator...\n",
      "\tStage 4 Generators:\n",
      "\t\tFitting DropUniqueFeatureGenerator...\n",
      "\tTypes of features in original data (raw dtype, special dtypes):\n",
      "\t\t('category', []) : 5 | ['season_label', 'hr_label', 'temp_label', 'hum_label', 'windspeed_label']\n",
      "\t\t('datetime', []) : 1 | ['dt_obj']\n",
      "\t\t('float', [])    : 3 | ['temp', 'atemp', 'windspeed']\n",
      "\t\t('int', [])      : 5 | ['season', 'holiday', 'workingday', 'weather', 'humidity']\n",
      "\tTypes of features in processed data (raw dtype, special dtypes):\n",
      "\t\t('category', [])             : 3 | ['season_label', 'hr_label', 'temp_label']\n",
      "\t\t('float', [])                : 3 | ['temp', 'atemp', 'windspeed']\n",
      "\t\t('int', [])                  : 3 | ['season', 'weather', 'humidity']\n",
      "\t\t('int', ['bool'])            : 4 | ['holiday', 'workingday', 'hum_label', 'windspeed_label']\n",
      "\t\t('int', ['datetime_as_int']) : 5 | ['dt_obj', 'dt_obj.year', 'dt_obj.month', 'dt_obj.day', 'dt_obj.dayofweek']\n",
      "\t0.2s = Fit runtime\n",
      "\t14 features in original data used to generate 18 features in processed data.\n",
      "\tTrain Data (Processed) Memory Usage: 0.86 MB (0.0% of available memory)\n",
      "Data preprocessing and feature engineering runtime = 0.19s ...\n",
      "AutoGluon will gauge predictive performance using evaluation metric: 'r2'\n",
      "\tTo change this, specify the eval_metric parameter of Predictor()\n",
      "AutoGluon will fit 2 stack levels (L1 to L2) ...\n",
      "Fitting 11 L1 models ...\n",
      "Fitting model: KNeighborsUnif_BAG_L1 ... Training model for up to 119.84s of the 179.8s of remaining time.\n",
      "Intel(R) Extension for Scikit-learn* enabled (https://github.com/intel/scikit-learn-intelex)\n",
      "Intel(R) Extension for Scikit-learn* enabled (https://github.com/intel/scikit-learn-intelex)\n",
      "\t0.9147\t = Validation score   (r2)\n",
      "\t0.4s\t = Training   runtime\n",
      "\t0.03s\t = Validation runtime\n",
      "Fitting model: KNeighborsDist_BAG_L1 ... Training model for up to 119.38s of the 179.34s of remaining time.\n",
      "Intel(R) Extension for Scikit-learn* enabled (https://github.com/intel/scikit-learn-intelex)\n",
      "Intel(R) Extension for Scikit-learn* enabled (https://github.com/intel/scikit-learn-intelex)\n",
      "\t0.94\t = Validation score   (r2)\n",
      "\t0.02s\t = Training   runtime\n",
      "\t0.03s\t = Validation runtime\n",
      "Fitting model: LightGBMXT_BAG_L1 ... Training model for up to 119.3s of the 179.26s of remaining time.\n",
      "\tFitting 8 child models (S1F1 - S1F8) | Fitting with ParallelLocalFoldFittingStrategy\n",
      "\t0.8493\t = Validation score   (r2)\n",
      "\t31.83s\t = Training   runtime\n",
      "\t12.83s\t = Validation runtime\n",
      "Fitting model: LightGBM_BAG_L1 ... Training model for up to 68.12s of the 128.08s of remaining time.\n",
      "\tFitting 8 child models (S1F1 - S1F8) | Fitting with ParallelLocalFoldFittingStrategy\n",
      "\t0.8513\t = Validation score   (r2)\n",
      "\t16.74s\t = Training   runtime\n",
      "\t3.31s\t = Validation runtime\n",
      "Fitting model: RandomForestMSE_BAG_L1 ... Training model for up to 41.63s of the 101.59s of remaining time.\n",
      "\t0.853\t = Validation score   (r2)\n",
      "\t3.82s\t = Training   runtime\n",
      "\t0.47s\t = Validation runtime\n",
      "Fitting model: CatBoost_BAG_L1 ... Training model for up to 37.0s of the 96.97s of remaining time.\n",
      "\tFitting 8 child models (S1F1 - S1F8) | Fitting with ParallelLocalFoldFittingStrategy\n",
      "\t0.8019\t = Validation score   (r2)\n",
      "\t31.68s\t = Training   runtime\n",
      "\t0.11s\t = Validation runtime\n",
      "Completed 1/20 k-fold bagging repeats ...\n",
      "Fitting model: WeightedEnsemble_L2 ... Training model for up to 179.81s of the 56.52s of remaining time.\n",
      "\t0.941\t = Validation score   (r2)\n",
      "\t0.31s\t = Training   runtime\n",
      "\t0.0s\t = Validation runtime\n",
      "Fitting 9 L2 models ...\n",
      "Fitting model: LightGBMXT_BAG_L2 ... Training model for up to 56.2s of the 56.19s of remaining time.\n",
      "\tFitting 8 child models (S1F1 - S1F8) | Fitting with ParallelLocalFoldFittingStrategy\n",
      "\t0.9388\t = Validation score   (r2)\n",
      "\t7.84s\t = Training   runtime\n",
      "\t0.62s\t = Validation runtime\n",
      "Fitting model: LightGBM_BAG_L2 ... Training model for up to 38.79s of the 38.78s of remaining time.\n",
      "\tFitting 8 child models (S1F1 - S1F8) | Fitting with ParallelLocalFoldFittingStrategy\n",
      "\t0.9489\t = Validation score   (r2)\n",
      "\t5.71s\t = Training   runtime\n",
      "\t0.17s\t = Validation runtime\n",
      "Fitting model: RandomForestMSE_BAG_L2 ... Training model for up to 23.75s of the 23.74s of remaining time.\n",
      "\t0.9499\t = Validation score   (r2)\n",
      "\t8.08s\t = Training   runtime\n",
      "\t0.49s\t = Validation runtime\n",
      "Fitting model: CatBoost_BAG_L2 ... Training model for up to 14.85s of the 14.85s of remaining time.\n",
      "\tFitting 8 child models (S1F1 - S1F8) | Fitting with ParallelLocalFoldFittingStrategy\n",
      "\t0.9436\t = Validation score   (r2)\n",
      "\t13.86s\t = Training   runtime\n",
      "\t0.13s\t = Validation runtime\n",
      "Completed 1/20 k-fold bagging repeats ...\n",
      "Fitting model: WeightedEnsemble_L3 ... Training model for up to 179.81s of the -7.59s of remaining time.\n",
      "\t0.9509\t = Validation score   (r2)\n",
      "\t0.26s\t = Training   runtime\n",
      "\t0.0s\t = Validation runtime\n",
      "AutoGluon training complete, total runtime = 187.88s ... Best model: \"WeightedEnsemble_L3\"\n",
      "TabularPredictor saved. To load, use: predictor = TabularPredictor.load(\"AutogluonModels/ag-20220901_111043\\\")\n"
     ]
    }
   ],
   "source": [
    "predictor_c = TabularPredictor(label=\"casual\",problem_type=\"regression\",eval_metric=\"r2\").fit(\n",
    "    train_data=train_c, time_limit=180, presets=\"best_quality\"\n",
    ")"
   ]
  },
  {
   "cell_type": "code",
   "execution_count": 17,
   "id": "f6060a67",
   "metadata": {
    "scrolled": true
   },
   "outputs": [
    {
     "name": "stdout",
     "output_type": "stream",
     "text": [
      "*** Summary of fit() ***\n",
      "Estimated performance of each model:\n",
      "                     model  score_val  pred_time_val    fit_time  pred_time_val_marginal  fit_time_marginal  stack_level  can_infer  fit_order\n",
      "0      WeightedEnsemble_L3   0.950930      17.575245  112.409997                0.000544           0.260069            3       True         12\n",
      "1   RandomForestMSE_BAG_L2   0.949949      17.278055   92.577883                0.494182           8.083346            2       True         10\n",
      "2          LightGBM_BAG_L2   0.948939      16.952417   90.204705                0.168544           5.710168            2       True          9\n",
      "3          CatBoost_BAG_L2   0.943581      16.911975   98.356413                0.128102          13.861876            2       True         11\n",
      "4      WeightedEnsemble_L2   0.940961      16.171501   48.894573                0.000999           0.307084            2       True          7\n",
      "5    KNeighborsDist_BAG_L1   0.940035       0.033942    0.021930                0.033942           0.021930            1       True          2\n",
      "6        LightGBMXT_BAG_L2   0.938802      17.405887   92.337728                0.622014           7.843191            2       True          8\n",
      "7    KNeighborsUnif_BAG_L1   0.914716       0.034909    0.399365                0.034909           0.399365            1       True          1\n",
      "8   RandomForestMSE_BAG_L1   0.852994       0.467595    3.823707                0.467595           3.823707            1       True          5\n",
      "9          LightGBM_BAG_L1   0.851328       3.305167   16.739771                3.305167          16.739771            1       True          4\n",
      "10       LightGBMXT_BAG_L1   0.849294      12.831392   31.825788               12.831392          31.825788            1       True          3\n",
      "11         CatBoost_BAG_L1   0.801890       0.110868   31.683975                0.110868          31.683975            1       True          6\n",
      "Number of models trained: 12\n",
      "Types of models trained:\n",
      "{'StackerEnsembleModel_RF', 'StackerEnsembleModel_CatBoost', 'StackerEnsembleModel_KNN', 'WeightedEnsembleModel', 'StackerEnsembleModel_LGB'}\n",
      "Bagging used: True  (with 8 folds)\n",
      "Multi-layer stack-ensembling used: True  (with 3 levels)\n",
      "Feature Metadata (Processed):\n",
      "(raw dtype, special dtypes):\n",
      "('category', [])             : 3 | ['season_label', 'hr_label', 'temp_label']\n",
      "('float', [])                : 3 | ['temp', 'atemp', 'windspeed']\n",
      "('int', [])                  : 3 | ['season', 'weather', 'humidity']\n",
      "('int', ['bool'])            : 4 | ['holiday', 'workingday', 'hum_label', 'windspeed_label']\n",
      "('int', ['datetime_as_int']) : 5 | ['dt_obj', 'dt_obj.year', 'dt_obj.month', 'dt_obj.day', 'dt_obj.dayofweek']\n",
      "Plot summary of models saved to file: AutogluonModels/ag-20220901_111043\\SummaryOfModels.html\n",
      "*** End of fit() summary ***\n"
     ]
    },
    {
     "data": {
      "text/plain": [
       "<AxesSubplot:xlabel='model'>"
      ]
     },
     "execution_count": 17,
     "metadata": {},
     "output_type": "execute_result"
    },
    {
     "data": {
      "image/png": "[encoded data removed]",
      "text/plain": [
       "<Figure size 432x288 with 1 Axes>"
      ]
     },
     "metadata": {
      "needs_background": "light"
     },
     "output_type": "display_data"
    }
   ],
   "source": [
    "predictor_c.fit_summary()\n",
    "#predictor_c = TabularPredictor.load(\"AutogluonModels/ag-20220901_111043\\\")\n",
    "\n",
    "# ### Review AutoGluon's training run with ranking of models that did the best.\n",
    "\n",
    "predictor_c.leaderboard(silent=True).plot(kind=\"bar\", x=\"model\", y=\"score_val\")\n",
    "\n",
    "# ### Create predictions from test dataset\n",
    "\n",
    "# print(\"AutoGluon infers problem type is: \", predictor_c.problem_type)\n",
    "# print(\"AutoGluon identified the following types of features:\")\n",
    "# print(predictor_c.feature_metadata)"
   ]
  },
  {
   "cell_type": "code",
   "execution_count": 18,
   "id": "8031a991",
   "metadata": {
    "scrolled": true
   },
   "outputs": [
    {
     "name": "stderr",
     "output_type": "stream",
     "text": [
      "C:\\Users\\Theraphi_WellnessSed\\anaconda3\\lib\\site-packages\\xgboost\\compat.py:31: FutureWarning: pandas.Int64Index is deprecated and will be removed from pandas in a future version. Use pandas.Index with the appropriate dtype instead.\n",
      "  from pandas import MultiIndex, Int64Index\n"
     ]
    }
   ],
   "source": [
    "y_pred_c = predictor_c.predict(test)"
   ]
  },
  {
   "cell_type": "code",
   "execution_count": 20,
   "id": "905ccbd6",
   "metadata": {
    "scrolled": true
   },
   "outputs": [
    {
     "name": "stderr",
     "output_type": "stream",
     "text": [
      "No path specified. Models will be saved in: \"AutogluonModels/ag-20220901_111503\\\"\n",
      "Presets specified: ['best_quality']\n",
      "Stack configuration (auto_stack=True): num_stack_levels=1, num_bag_folds=8, num_bag_sets=20\n",
      "Beginning AutoGluon training ... Time limit = 180s\n",
      "AutoGluon will save models to \"AutogluonModels/ag-20220901_111503\\\"\n",
      "AutoGluon Version:  0.5.2\n",
      "Python Version:     3.9.12\n",
      "Operating System:   Windows\n",
      "Train Data Rows:    10886\n",
      "Train Data Columns: 14\n",
      "Label Column: registered\n",
      "Preprocessing data ...\n",
      "Using Feature Generators to preprocess the data ...\n",
      "Fitting AutoMLPipelineFeatureGenerator...\n",
      "\tAvailable Memory:                    5388.63 MB\n",
      "\tTrain Data (Original)  Memory Usage: 0.84 MB (0.0% of available memory)\n",
      "\tInferring data type of each feature based on column values. Set feature_metadata_in to manually specify special dtypes of the features.\n",
      "\tStage 1 Generators:\n",
      "\t\tFitting AsTypeFeatureGenerator...\n",
      "\t\t\tNote: Converting 4 features to boolean dtype as they only contain 2 unique values.\n",
      "\tStage 2 Generators:\n",
      "\t\tFitting FillNaFeatureGenerator...\n",
      "\tStage 3 Generators:\n",
      "\t\tFitting IdentityFeatureGenerator...\n",
      "\t\tFitting CategoryFeatureGenerator...\n",
      "\t\t\tFitting CategoryMemoryMinimizeFeatureGenerator...\n",
      "\t\tFitting DatetimeFeatureGenerator...\n",
      "\tStage 4 Generators:\n",
      "\t\tFitting DropUniqueFeatureGenerator...\n",
      "\tTypes of features in original data (raw dtype, special dtypes):\n",
      "\t\t('category', []) : 5 | ['season_label', 'hr_label', 'temp_label', 'hum_label', 'windspeed_label']\n",
      "\t\t('datetime', []) : 1 | ['dt_obj']\n",
      "\t\t('float', [])    : 3 | ['temp', 'atemp', 'windspeed']\n",
      "\t\t('int', [])      : 5 | ['season', 'holiday', 'workingday', 'weather', 'humidity']\n",
      "\tTypes of features in processed data (raw dtype, special dtypes):\n",
      "\t\t('category', [])             : 3 | ['season_label', 'hr_label', 'temp_label']\n",
      "\t\t('float', [])                : 3 | ['temp', 'atemp', 'windspeed']\n",
      "\t\t('int', [])                  : 3 | ['season', 'weather', 'humidity']\n",
      "\t\t('int', ['bool'])            : 4 | ['holiday', 'workingday', 'hum_label', 'windspeed_label']\n",
      "\t\t('int', ['datetime_as_int']) : 5 | ['dt_obj', 'dt_obj.year', 'dt_obj.month', 'dt_obj.day', 'dt_obj.dayofweek']\n",
      "\t0.1s = Fit runtime\n",
      "\t14 features in original data used to generate 18 features in processed data.\n",
      "\tTrain Data (Processed) Memory Usage: 0.86 MB (0.0% of available memory)\n",
      "Data preprocessing and feature engineering runtime = 0.14s ...\n",
      "AutoGluon will gauge predictive performance using evaluation metric: 'r2'\n",
      "\tTo change this, specify the eval_metric parameter of Predictor()\n",
      "AutoGluon will fit 2 stack levels (L1 to L2) ...\n",
      "Fitting 11 L1 models ...\n",
      "Fitting model: KNeighborsUnif_BAG_L1 ... Training model for up to 119.87s of the 179.85s of remaining time.\n",
      "Intel(R) Extension for Scikit-learn* enabled (https://github.com/intel/scikit-learn-intelex)\n",
      "Intel(R) Extension for Scikit-learn* enabled (https://github.com/intel/scikit-learn-intelex)\n",
      "\t0.5929\t = Validation score   (r2)\n",
      "\t0.02s\t = Training   runtime\n",
      "\t0.03s\t = Validation runtime\n",
      "Fitting model: KNeighborsDist_BAG_L1 ... Training model for up to 119.8s of the 179.78s of remaining time.\n",
      "Intel(R) Extension for Scikit-learn* enabled (https://github.com/intel/scikit-learn-intelex)\n",
      "Intel(R) Extension for Scikit-learn* enabled (https://github.com/intel/scikit-learn-intelex)\n",
      "\t0.7185\t = Validation score   (r2)\n",
      "\t0.02s\t = Training   runtime\n",
      "\t0.03s\t = Validation runtime\n",
      "Fitting model: LightGBMXT_BAG_L1 ... Training model for up to 119.72s of the 179.7s of remaining time.\n",
      "\tFitting 8 child models (S1F1 - S1F8) | Fitting with ParallelLocalFoldFittingStrategy\n",
      "\t0.7659\t = Validation score   (r2)\n",
      "\t10.39s\t = Training   runtime\n",
      "\t1.7s\t = Validation runtime\n",
      "Fitting model: LightGBM_BAG_L1 ... Training model for up to 99.9s of the 159.88s of remaining time.\n",
      "\tFitting 8 child models (S1F1 - S1F8) | Fitting with ParallelLocalFoldFittingStrategy\n",
      "\t0.7664\t = Validation score   (r2)\n",
      "\t7.38s\t = Training   runtime\n",
      "\t0.6s\t = Validation runtime\n",
      "Fitting model: RandomForestMSE_BAG_L1 ... Training model for up to 83.31s of the 143.29s of remaining time.\n",
      "\t0.7806\t = Validation score   (r2)\n",
      "\t4.09s\t = Training   runtime\n",
      "\t0.4s\t = Validation runtime\n",
      "Fitting model: CatBoost_BAG_L1 ... Training model for up to 78.46s of the 138.44s of remaining time.\n",
      "\tFitting 8 child models (S1F1 - S1F8) | Fitting with ParallelLocalFoldFittingStrategy\n",
      "\t0.759\t = Validation score   (r2)\n",
      "\t65.07s\t = Training   runtime\n",
      "\t0.37s\t = Validation runtime\n",
      "Fitting model: ExtraTreesMSE_BAG_L1 ... Training model for up to 4.13s of the 64.11s of remaining time.\n",
      "\t0.772\t = Validation score   (r2)\n",
      "\t2.6s\t = Training   runtime\n",
      "\t0.52s\t = Validation runtime\n",
      "Fitting model: NeuralNetFastAI_BAG_L1 ... Training model for up to 0.61s of the 60.59s of remaining time.\n",
      "\tFitting 8 child models (S1F1 - S1F8) | Fitting with ParallelLocalFoldFittingStrategy\n",
      "\tTime limit exceeded... Skipping NeuralNetFastAI_BAG_L1.\n",
      "Completed 1/20 k-fold bagging repeats ...\n",
      "Fitting model: WeightedEnsemble_L2 ... Training model for up to 179.86s of the 40.8s of remaining time.\n",
      "\t0.8304\t = Validation score   (r2)\n",
      "\t0.39s\t = Training   runtime\n",
      "\t0.0s\t = Validation runtime\n",
      "Fitting 9 L2 models ...\n",
      "Fitting model: LightGBMXT_BAG_L2 ... Training model for up to 40.4s of the 40.39s of remaining time.\n",
      "\tFitting 8 child models (S1F1 - S1F8) | Fitting with ParallelLocalFoldFittingStrategy\n",
      "\t0.9434\t = Validation score   (r2)\n",
      "\t28.76s\t = Training   runtime\n",
      "\t7.98s\t = Validation runtime\n",
      "Completed 1/20 k-fold bagging repeats ...\n",
      "Fitting model: WeightedEnsemble_L3 ... Training model for up to 179.86s of the -8.45s of remaining time.\n",
      "\t0.9434\t = Validation score   (r2)\n",
      "\t0.0s\t = Training   runtime\n",
      "\t0.0s\t = Validation runtime\n",
      "AutoGluon training complete, total runtime = 188.48s ... Best model: \"WeightedEnsemble_L3\"\n",
      "TabularPredictor saved. To load, use: predictor = TabularPredictor.load(\"AutogluonModels/ag-20220901_111503\\\")\n"
     ]
    }
   ],
   "source": [
    "predictor_r = TabularPredictor(label=\"registered\",problem_type=\"regression\",eval_metric=\"r2\").fit(\n",
    "    train_data=train_r, time_limit=180, presets=\"best_quality\"\n",
    ")\n"
   ]
  },
  {
   "cell_type": "code",
   "execution_count": 21,
   "id": "9d9f1d4e",
   "metadata": {
    "scrolled": true
   },
   "outputs": [
    {
     "name": "stdout",
     "output_type": "stream",
     "text": [
      "*** Summary of fit() ***\n",
      "Estimated performance of each model:\n",
      "                    model  score_val  pred_time_val    fit_time  pred_time_val_marginal  fit_time_marginal  stack_level  can_infer  fit_order\n",
      "0       LightGBMXT_BAG_L2   0.943427      11.649812  118.321535                7.982829          28.760859            2       True          9\n",
      "1     WeightedEnsemble_L3   0.943427      11.650809  118.326519                0.000997           0.004985            3       True         10\n",
      "2     WeightedEnsemble_L2   0.830418       3.112957   87.327672                0.000993           0.386183            2       True          8\n",
      "3  RandomForestMSE_BAG_L1   0.780630       0.403810    4.090790                0.403810           4.090790            1       True          5\n",
      "4    ExtraTreesMSE_BAG_L1   0.772028       0.520113    2.601264                0.520113           2.601264            1       True          7\n",
      "5         LightGBM_BAG_L1   0.766407       0.602503    7.377722                0.602503           7.377722            1       True          4\n",
      "6       LightGBMXT_BAG_L1   0.765938       1.704446   10.388282                1.704446          10.388282            1       True          3\n",
      "7         CatBoost_BAG_L1   0.759005       0.369247   65.067743                0.369247          65.067743            1       True          6\n",
      "8   KNeighborsDist_BAG_L1   0.718519       0.031958    0.016954                0.031958           0.016954            1       True          2\n",
      "9   KNeighborsUnif_BAG_L1   0.592910       0.034906    0.017922                0.034906           0.017922            1       True          1\n",
      "Number of models trained: 10\n",
      "Types of models trained:\n",
      "{'StackerEnsembleModel_RF', 'StackerEnsembleModel_XT', 'StackerEnsembleModel_CatBoost', 'StackerEnsembleModel_KNN', 'WeightedEnsembleModel', 'StackerEnsembleModel_LGB'}\n",
      "Bagging used: True  (with 8 folds)\n",
      "Multi-layer stack-ensembling used: True  (with 3 levels)\n",
      "Feature Metadata (Processed):\n",
      "(raw dtype, special dtypes):\n",
      "('category', [])             : 3 | ['season_label', 'hr_label', 'temp_label']\n",
      "('float', [])                : 3 | ['temp', 'atemp', 'windspeed']\n",
      "('int', [])                  : 3 | ['season', 'weather', 'humidity']\n",
      "('int', ['bool'])            : 4 | ['holiday', 'workingday', 'hum_label', 'windspeed_label']\n",
      "('int', ['datetime_as_int']) : 5 | ['dt_obj', 'dt_obj.year', 'dt_obj.month', 'dt_obj.day', 'dt_obj.dayofweek']\n",
      "Plot summary of models saved to file: AutogluonModels/ag-20220901_111503\\SummaryOfModels.html\n",
      "*** End of fit() summary ***\n"
     ]
    },
    {
     "data": {
      "text/plain": [
       "<AxesSubplot:xlabel='model'>"
      ]
     },
     "execution_count": 21,
     "metadata": {},
     "output_type": "execute_result"
    },
    {
     "data": {
      "image/png": "[encoded data removed]",
      "text/plain": [
       "<Figure size 432x288 with 1 Axes>"
      ]
     },
     "metadata": {
      "needs_background": "light"
     },
     "output_type": "display_data"
    }
   ],
   "source": [
    "predictor_r.fit_summary()\n",
    "#predictor_r = TabularPredictor.load(\"AutogluonModels/ag-20220901_111503\\\")\n",
    "### Review AutoGluon's training run with ranking of models that did the best.\n",
    "\n",
    "predictor_r.leaderboard(silent=True).plot(kind=\"bar\", x=\"model\", y=\"score_val\")\n",
    "\n",
    "### Create predictions from test dataset\n",
    "\n",
    "# print(\"AutoGluon infers problem type is: \", predictor_c.problem_type)\n",
    "# print(\"AutoGluon identified the following types of features:\")\n",
    "# print(predictor_r.feature_metadata)"
   ]
  },
  {
   "cell_type": "code",
   "execution_count": 22,
   "id": "532a90ac",
   "metadata": {
    "scrolled": true
   },
   "outputs": [],
   "source": [
    "\n",
    "y_pred_r = predictor_r.predict(test)\n"
   ]
  },
  {
   "cell_type": "code",
   "execution_count": 23,
   "id": "460d7533",
   "metadata": {
    "scrolled": true
   },
   "outputs": [
    {
     "data": {
      "text/html": [
       "<div>\n",
       "<style scoped>\n",
       "    .dataframe tbody tr th:only-of-type {\n",
       "        vertical-align: middle;\n",
       "    }\n",
       "\n",
       "    .dataframe tbody tr th {\n",
       "        vertical-align: top;\n",
       "    }\n",
       "\n",
       "    .dataframe thead th {\n",
       "        text-align: right;\n",
       "    }\n",
       "</style>\n",
       "<table border=\"1\" class=\"dataframe\">\n",
       "  <thead>\n",
       "    <tr style=\"text-align: right;\">\n",
       "      <th></th>\n",
       "      <th>count</th>\n",
       "      <th>datetime</th>\n",
       "    </tr>\n",
       "  </thead>\n",
       "  <tbody>\n",
       "    <tr>\n",
       "      <th>2610</th>\n",
       "      <td>-1</td>\n",
       "      <td>2011-10-29 07:00:00</td>\n",
       "    </tr>\n",
       "    <tr>\n",
       "      <th>2611</th>\n",
       "      <td>-2</td>\n",
       "      <td>2011-10-29 08:00:00</td>\n",
       "    </tr>\n",
       "    <tr>\n",
       "      <th>2612</th>\n",
       "      <td>-2</td>\n",
       "      <td>2011-10-29 09:00:00</td>\n",
       "    </tr>\n",
       "    <tr>\n",
       "      <th>2634</th>\n",
       "      <td>-3</td>\n",
       "      <td>2011-10-30 07:00:00</td>\n",
       "    </tr>\n",
       "    <tr>\n",
       "      <th>2635</th>\n",
       "      <td>-3</td>\n",
       "      <td>2011-10-30 08:00:00</td>\n",
       "    </tr>\n",
       "    <tr>\n",
       "      <th>2636</th>\n",
       "      <td>-4</td>\n",
       "      <td>2011-10-30 09:00:00</td>\n",
       "    </tr>\n",
       "    <tr>\n",
       "      <th>2826</th>\n",
       "      <td>-4</td>\n",
       "      <td>2011-11-26 07:00:00</td>\n",
       "    </tr>\n",
       "    <tr>\n",
       "      <th>2827</th>\n",
       "      <td>-4</td>\n",
       "      <td>2011-11-26 08:00:00</td>\n",
       "    </tr>\n",
       "    <tr>\n",
       "      <th>2828</th>\n",
       "      <td>-3</td>\n",
       "      <td>2011-11-26 09:00:00</td>\n",
       "    </tr>\n",
       "    <tr>\n",
       "      <th>2850</th>\n",
       "      <td>-1</td>\n",
       "      <td>2011-11-27 07:00:00</td>\n",
       "    </tr>\n",
       "    <tr>\n",
       "      <th>2851</th>\n",
       "      <td>-1</td>\n",
       "      <td>2011-11-27 08:00:00</td>\n",
       "    </tr>\n",
       "    <tr>\n",
       "      <th>2852</th>\n",
       "      <td>-2</td>\n",
       "      <td>2011-11-27 09:00:00</td>\n",
       "    </tr>\n",
       "    <tr>\n",
       "      <th>3422</th>\n",
       "      <td>-5</td>\n",
       "      <td>2012-01-28 07:00:00</td>\n",
       "    </tr>\n",
       "    <tr>\n",
       "      <th>3423</th>\n",
       "      <td>-6</td>\n",
       "      <td>2012-01-28 08:00:00</td>\n",
       "    </tr>\n",
       "    <tr>\n",
       "      <th>3424</th>\n",
       "      <td>-5</td>\n",
       "      <td>2012-01-28 09:00:00</td>\n",
       "    </tr>\n",
       "    <tr>\n",
       "      <th>3463</th>\n",
       "      <td>-1</td>\n",
       "      <td>2012-01-30 00:00:00</td>\n",
       "    </tr>\n",
       "    <tr>\n",
       "      <th>3478</th>\n",
       "      <td>-2</td>\n",
       "      <td>2012-01-30 15:00:00</td>\n",
       "    </tr>\n",
       "    <tr>\n",
       "      <th>3510</th>\n",
       "      <td>-1</td>\n",
       "      <td>2012-01-31 23:00:00</td>\n",
       "    </tr>\n",
       "    <tr>\n",
       "      <th>3638</th>\n",
       "      <td>-3</td>\n",
       "      <td>2012-02-25 09:00:00</td>\n",
       "    </tr>\n",
       "    <tr>\n",
       "      <th>4259</th>\n",
       "      <td>-4</td>\n",
       "      <td>2012-04-29 07:00:00</td>\n",
       "    </tr>\n",
       "    <tr>\n",
       "      <th>4260</th>\n",
       "      <td>-3</td>\n",
       "      <td>2012-04-29 08:00:00</td>\n",
       "    </tr>\n",
       "    <tr>\n",
       "      <th>4261</th>\n",
       "      <td>-3</td>\n",
       "      <td>2012-04-29 09:00:00</td>\n",
       "    </tr>\n",
       "    <tr>\n",
       "      <th>5051</th>\n",
       "      <td>-1</td>\n",
       "      <td>2012-07-28 07:00:00</td>\n",
       "    </tr>\n",
       "  </tbody>\n",
       "</table>\n",
       "</div>"
      ],
      "text/plain": [
       "      count             datetime\n",
       "2610     -1  2011-10-29 07:00:00\n",
       "2611     -2  2011-10-29 08:00:00\n",
       "2612     -2  2011-10-29 09:00:00\n",
       "2634     -3  2011-10-30 07:00:00\n",
       "2635     -3  2011-10-30 08:00:00\n",
       "2636     -4  2011-10-30 09:00:00\n",
       "2826     -4  2011-11-26 07:00:00\n",
       "2827     -4  2011-11-26 08:00:00\n",
       "2828     -3  2011-11-26 09:00:00\n",
       "2850     -1  2011-11-27 07:00:00\n",
       "2851     -1  2011-11-27 08:00:00\n",
       "2852     -2  2011-11-27 09:00:00\n",
       "3422     -5  2012-01-28 07:00:00\n",
       "3423     -6  2012-01-28 08:00:00\n",
       "3424     -5  2012-01-28 09:00:00\n",
       "3463     -1  2012-01-30 00:00:00\n",
       "3478     -2  2012-01-30 15:00:00\n",
       "3510     -1  2012-01-31 23:00:00\n",
       "3638     -3  2012-02-25 09:00:00\n",
       "4259     -4  2012-04-29 07:00:00\n",
       "4260     -3  2012-04-29 08:00:00\n",
       "4261     -3  2012-04-29 09:00:00\n",
       "5051     -1  2012-07-28 07:00:00"
      ]
     },
     "execution_count": 23,
     "metadata": {},
     "output_type": "execute_result"
    }
   ],
   "source": [
    "result = pd.concat([y_pred_r, y_pred_c], axis=1, join='inner')\n",
    "\n",
    "result['count']=(round(result['registered'])+result['casual']).astype('int')\n",
    "\n",
    "result=result.drop(\"registered\",axis=1)\n",
    "\n",
    "result=result.drop(\"casual\",axis=1)\n",
    "\n",
    "test3 = pd.read_csv(\"test.csv\")\n",
    "\n",
    "result['datetime']=test3['datetime']\n",
    "\n",
    "result[result['count'] < 0]"
   ]
  },
  {
   "cell_type": "code",
   "execution_count": null,
   "id": "94475abe",
   "metadata": {
    "scrolled": true
   },
   "outputs": [],
   "source": [
    "#sanity check idea\n",
    "#testx=pd.concat([test,y_pred_r, y_pred_c], axis=1, join='inner')\n",
    "#testx.loc[(testx['registered']<0)]"
   ]
  },
  {
   "cell_type": "code",
   "execution_count": 24,
   "id": "33cd295b",
   "metadata": {
    "scrolled": false
   },
   "outputs": [
    {
     "name": "stdout",
     "output_type": "stream",
     "text": [
      "Successfully submitted to Bike Sharing Demand\n"
     ]
    },
    {
     "name": "stderr",
     "output_type": "stream",
     "text": [
      "\n",
      "  0%|          | 0.00/155k [00:00<?, ?B/s]\n",
      "  5%|5         | 8.00k/155k [00:00<00:02, 54.5kB/s]\n",
      "100%|##########| 155k/155k [00:01<00:00, 132kB/s]  \n"
     ]
    }
   ],
   "source": [
    "result.loc[result['count'] < 0 , 'count'] = 0\n",
    "\n",
    "submission=result\n",
    "\n",
    "submission.to_csv(\"submission.csv\", index=False)\n",
    "\n",
    "import json\n",
    "kaggle_username = \"kanericaws\"\n",
    "kaggle_key = \"9c72a930e84f7c1845fbc803dc7adfdc\"\n",
    "\n",
    "!kaggle competitions submit -c bike-sharing-demand -f submission.csv -m \"predictor_c = TabularPredictor.load(AutogluonModels/ag-20220901_111043\\) predictor_r = TabularPredictor.load(AutogluonModels/ag-20220901_111503\\)\""
   ]
  },
  {
   "cell_type": "code",
   "execution_count": null,
   "id": "154af243",
   "metadata": {
    "scrolled": true
   },
   "outputs": [],
   "source": [
    "predictor_c.fit_summary()\n",
    "\n",
    "### Review AutoGluon's training run with ranking of models that did the best.\n",
    "\n",
    "predictor_c.leaderboard(silent=True).plot(kind=\"bar\", x=\"model\", y=\"score_val\")"
   ]
  },
  {
   "cell_type": "code",
   "execution_count": null,
   "id": "aef730c2",
   "metadata": {
    "scrolled": true
   },
   "outputs": [],
   "source": [
    "import autogluon.core as ag\n",
    "from sklearn.model_selection import train_test_split\n",
    "# df_train_c, df_test_c = train_test_split(train_c, test_size=0.2, random_state=0)\n",
    "# df_train_r, df_test_r = train_test_split(train_r, test_size=0.2, random_state=0)\n",
    "\n",
    "# nn_options = {  # specifies non-default hyperparameter values for neural network models\n",
    "#     'num_epochs': 10,  # number of training epochs (controls training time of NN models)\n",
    "#     'learning_rate': ag.space.Real(1e-4, 1e-2, default=5e-4, log=True),  # learning rate used in training (real-valued hyperparameter searched on log-scale)\n",
    "#     'activation': ag.space.Categorical('relu', 'softrelu', 'tanh'),  # activation function used in NN (categorical hyperparameter, default = first entry)\n",
    "#     'dropout_prob': ag.space.Real(0.0, 0.5, default=0.1),  # dropout probability (real-valued hyperparameter)\n",
    "# }\n",
    "\n",
    "\n",
    "\n",
    "# hyperparameters = {  # hyperparameters of each model type\n",
    "#                    'GBM': gbm_options,\n",
    "#                    'NN_TORCH': nn_options,  # NOTE: comment this line out if you get errors on Mac OSX\n",
    "#                   }  # When these keys are missing from hyperparameters dict, no models of that type are trained\n",
    "\n",
    "# time_limit = 5*60  # train various models for ~2 min\n",
    "# num_trials = 10  # try at most 5 different hyperparameter configurations for each type of model\n",
    "# search_strategy = 'auto'  # to tune hyperparameters using random search routine with a local scheduler\n",
    "\n",
    "# hyperparameter_tune_kwargs = {  # HPO is not performed unless hyperparameter_tune_kwargs is specified\n",
    "#     'num_trials': num_trials,\n",
    "#     'scheduler' : 'local',\n",
    "#     'searcher': search_strategy,\n",
    "# }\n",
    "\n",
    "#do it as regression and see if there is an improvement --improve\n",
    "#'num_boost_round': 400 \n",
    "\n",
    "\n",
    "# predictor_c = TabularPredictor(label='casual', problem_type=\"regression\").fit(\n",
    "#     df_train_c, tuning_data=df_test_c, time_limit=time_limit,\n",
    "#     hyperparameters=hyperparameters, hyperparameter_tune_kwargs=hyperparameter_tune_kwargs,\n",
    "# )\n",
    "\n",
    "\n",
    "#conclusion for casual only change is to set it to regression\n",
    "# predictor_c = TabularPredictor(label=\"casual\",problem_type=\"regression\").fit(\n",
    "#     time_limit=time_limit,\n",
    "#     hyperparameters=hyperparameters, hyperparameter_tune_kwargs=hyperparameter_tune_kwargs,\n",
    "# )\n",
    "\n",
    "predictor_r = TabularPredictor(label='registered').fit(\n",
    "    df_train_r, tuning_data=df_test_r, time_limit=time_limit,\n",
    "    hyperparameters=hyperparameters, \n",
    "    hyperparameter_tune_kwargs=hyperparameter_tune_kwargs,\n",
    ")\n",
    "\n",
    "\n"
   ]
  },
  {
   "cell_type": "code",
   "execution_count": null,
   "id": "4420235e",
   "metadata": {
    "scrolled": true
   },
   "outputs": [],
   "source": [
    "predictor_c = TabularPredictor(label=\"casual\",problem_type=\"regression\",eval_metric=\"r2\").fit(\n",
    "    train_data=train_c, time_limit=300, presets=\"best_quality\"\n",
    ")"
   ]
  },
  {
   "cell_type": "code",
   "execution_count": null,
   "id": "0b207c18",
   "metadata": {
    "scrolled": true
   },
   "outputs": [],
   "source": [
    "predictor_c.fit_summary()\n",
    "\n",
    "predictor_c.leaderboard(silent=True).plot(kind=\"bar\", x=\"model\", y=\"score_val\")\n"
   ]
  },
  {
   "cell_type": "code",
   "execution_count": null,
   "id": "51a5a54b",
   "metadata": {
    "scrolled": true
   },
   "outputs": [],
   "source": [
    "\n",
    "predictor_r = TabularPredictor(label=\"registered\",problem_type=\"regression\",eval_metric=\"r2\").fit(\n",
    "    train_data=train_r, time_limit=300, presets=\"best_quality\"\n",
    ")"
   ]
  },
  {
   "cell_type": "code",
   "execution_count": null,
   "id": "0345f11f",
   "metadata": {
    "scrolled": true
   },
   "outputs": [],
   "source": [
    "predictor_r.fit_summary()\n",
    "\n",
    "predictor_r.leaderboard(silent=True).plot(kind=\"bar\", x=\"model\", y=\"score_val\")\n"
   ]
  },
  {
   "cell_type": "code",
   "execution_count": null,
   "id": "25eb541d",
   "metadata": {
    "scrolled": true
   },
   "outputs": [],
   "source": [
    "predictor_r.fit_summary()\n",
    "\n",
    "### Review AutoGluon's training run with ranking of models that did the best.\n",
    "\n",
    "predictor_r.leaderboard(silent=True).plot(kind=\"bar\", x=\"model\", y=\"score_val\")"
   ]
  },
  {
   "cell_type": "code",
   "execution_count": null,
   "id": "6dde794d",
   "metadata": {
    "scrolled": true
   },
   "outputs": [],
   "source": [
    "predictor_c.fit_summary()\n",
    "\n",
    "### Review AutoGluon's training run with ranking of models that did the best.\n",
    "\n",
    "predictor_c.leaderboard(silent=True).plot(kind=\"bar\", x=\"model\", y=\"score_val\")"
   ]
  },
  {
   "cell_type": "code",
   "execution_count": null,
   "id": "302802b1",
   "metadata": {
    "scrolled": true
   },
   "outputs": [],
   "source": [
    "predictor_c.fit_summary()\n",
    "\n",
    "### Review AutoGluon's training run with ranking of models that did the best.\n",
    "\n",
    "predictor_c.leaderboard(silent=True).plot(kind=\"bar\", x=\"model\", y=\"score_val\")"
   ]
  },
  {
   "cell_type": "code",
   "execution_count": null,
   "id": "fa6f9289",
   "metadata": {
    "scrolled": true
   },
   "outputs": [],
   "source": [
    "predictor_c.fit_summary()\n",
    "\n",
    "### Review AutoGluon's training run with ranking of models that did the best.\n",
    "\n",
    "predictor_c.leaderboard(silent=True).plot(kind=\"bar\", x=\"model\", y=\"score_val\")"
   ]
  },
  {
   "cell_type": "code",
   "execution_count": null,
   "id": "538c64d3",
   "metadata": {
    "scrolled": true
   },
   "outputs": [],
   "source": [
    "predictor_c.fit_summary()\n",
    "\n",
    "### Review AutoGluon's training run with ranking of models that did the best.\n",
    "\n",
    "predictor_c.leaderboard(silent=True).plot(kind=\"bar\", x=\"model\", y=\"score_val\")\n"
   ]
  },
  {
   "cell_type": "code",
   "execution_count": null,
   "id": "708e6cc7",
   "metadata": {
    "scrolled": true
   },
   "outputs": [],
   "source": [
    "y_pred_c = predictor_c.predict(test)"
   ]
  },
  {
   "cell_type": "code",
   "execution_count": null,
   "id": "8575d13e",
   "metadata": {
    "scrolled": true
   },
   "outputs": [],
   "source": [
    "y_pred_r = predictor_r.predict(test)"
   ]
  },
  {
   "cell_type": "code",
   "execution_count": null,
   "id": "ba7fa2e7",
   "metadata": {
    "scrolled": true
   },
   "outputs": [],
   "source": [
    "# train_c_80, train_c_20 = train_test_split(train_c, test_size=0.2, random_state=0)\n",
    "\n",
    "\n",
    "# predictor_c_p = TabularPredictor(label=\"casual\").fit(\n",
    "#     train_c_80, tuning_data=train_c_20, time_limit=time_limit,\n",
    "#     hyperparameters=hyperparameters, hyperparameter_tune_kwargs=hyperparameter_tune_kwargs,\n",
    "# )"
   ]
  },
  {
   "cell_type": "code",
   "execution_count": null,
   "id": "c5604e0f",
   "metadata": {
    "scrolled": true
   },
   "outputs": [],
   "source": [
    "# predictor_c_p.fit_summary()\n",
    "\n",
    "# ### Review AutoGluon's training run with ranking of models that did the best.\n",
    "\n",
    "# predictor_c_p.leaderboard(silent=True).plot(kind=\"bar\", x=\"model\", y=\"score_val\")\n",
    "\n",
    "### Create predictions from test dataset\n",
    "\n",
    "# print(\"AutoGluon infers problem type is: \", predictor_c.problem_type)\n",
    "# print(\"AutoGluon identified the following types of features:\")\n",
    "# print(predictor_c.feature_metadata)"
   ]
  },
  {
   "cell_type": "code",
   "execution_count": null,
   "id": "18cac244",
   "metadata": {
    "scrolled": true
   },
   "outputs": [],
   "source": [
    "# predictor_c_p.fit_summary()\n",
    "\n",
    "# ### Review AutoGluon's training run with ranking of models that did the best.\n",
    "\n",
    "# predictor_c_p.leaderboard(silent=True).plot(kind=\"bar\", x=\"model\", y=\"score_val\")\n",
    "\n",
    "### Create predictions from test dataset\n",
    "\n",
    "# print(\"AutoGluon infers problem type is: \", predictor_c.problem_type)\n",
    "# print(\"AutoGluon identified the following types of features:\")\n",
    "# print(predictor_c.feature_metadata)"
   ]
  },
  {
   "cell_type": "code",
   "execution_count": null,
   "id": "6e4b3957",
   "metadata": {
    "scrolled": false
   },
   "outputs": [],
   "source": [
    "# predictor_r.fit_summary()\n",
    "\n",
    "# ### Review AutoGluon's training run with ranking of models that did the best.\n",
    "\n",
    "# predictor_r.leaderboard(silent=True).plot(kind=\"bar\", x=\"model\", y=\"score_val\")\n",
    "\n",
    "# ### Create predictions from test dataset\n",
    "\n",
    "# print(\"AutoGluon infers problem type is: \", predictor_c.problem_type)\n",
    "# print(\"AutoGluon identified the following types of features:\")\n",
    "# print(predictor_r.feature_metadata)"
   ]
  },
  {
   "cell_type": "code",
   "execution_count": null,
   "id": "d2baf447",
   "metadata": {
    "scrolled": true
   },
   "outputs": [],
   "source": [
    "# # # predict from specific model/stack\n",
    "# # #i = 0  # index of model to use\n",
    "\n",
    "# for i in range(0, 15):\n",
    "#     model_to_use = predictor_c_p.get_model_names()[i]\n",
    "# #y_pred_r = predictor_r.predict(test, model=model_to_use)\n",
    "#     print(i);print(model_to_use);\n",
    "#     #LightGBM\\T2"
   ]
  },
  {
   "cell_type": "code",
   "execution_count": null,
   "id": "a5eb171b",
   "metadata": {
    "scrolled": true
   },
   "outputs": [],
   "source": [
    "# #test2 = pd.read_csv(\"test.csv\")\n",
    "# #test['dt_obj'] =pd.to_datetime(test2['datetime'], format='%Y-%m-%d %H:%M:%S')\n",
    "\n",
    "# # # predict from specific model/stack\n",
    "# i = 1  # index of model to use\n",
    "\n",
    "# #for i in range(0, 15):\n",
    "# model_to_use = predictor_c_p.get_model_names()[i]\n",
    "# y_pred_c = predictor_c_p.predict(test, model=model_to_use)\n",
    "# print(i);print(model_to_use);\n",
    "# #LightGBM\\T2\n"
   ]
  },
  {
   "cell_type": "code",
   "execution_count": null,
   "id": "e4ac1db7",
   "metadata": {
    "scrolled": true
   },
   "outputs": [],
   "source": [
    "# i = 10  # index of model to use\n",
    "\n",
    "# for i in range(0, 11):\n",
    "#     model_to_use = predictor_r.get_model_names()[i]\n",
    "#     print(i);print(model_to_use);\n",
    "# #y_pred_r = predictor_r.predict(test, model=model_to_use)\n"
   ]
  },
  {
   "cell_type": "code",
   "execution_count": null,
   "id": "26bd45d1",
   "metadata": {
    "scrolled": false
   },
   "outputs": [],
   "source": [
    "# train_c_80, train_c_20 = train_test_split(train_c, test_size=0.2, random_state=0)\n",
    "\n",
    "# predictor_c = TabularPredictor(label=\"casual\",problem_type=\"regression\").fit(\n",
    "#     train_c_80, tuning_data=train_c_20, time_limit=time_limit,\n",
    "#     hyperparameters=hyperparameters, hyperparameter_tune_kwargs=hyperparameter_tune_kwargs,\n",
    "# )\n"
   ]
  },
  {
   "cell_type": "code",
   "execution_count": null,
   "id": "e070cced",
   "metadata": {
    "scrolled": true
   },
   "outputs": [],
   "source": [
    "# predictor_c.fit_summary()\n",
    "\n",
    "# ### Review AutoGluon's training run with ranking of models that did the best.\n",
    "\n",
    "# predictor_c.leaderboard(silent=True).plot(kind=\"bar\", x=\"model\", y=\"score_val\")\n",
    "\n",
    "# ### Create predictions from test dataset\n",
    "\n",
    "# print(\"AutoGluon infers problem type is: \", predictor_c.problem_type)\n",
    "# print(\"AutoGluon identified the following types of features:\")\n",
    "# print(predictor_c.feature_metadata)"
   ]
  },
  {
   "cell_type": "code",
   "execution_count": null,
   "id": "3441f7f8",
   "metadata": {
    "scrolled": true
   },
   "outputs": [],
   "source": [
    "# predictor_c = TabularPredictor(label=\"casual\").fit(\n",
    "#     train_data=train_c, time_limit=180, presets=\"best_quality\"\n",
    "# )"
   ]
  },
  {
   "cell_type": "code",
   "execution_count": null,
   "id": "917de656",
   "metadata": {
    "scrolled": true
   },
   "outputs": [],
   "source": [
    "# #test2 = pd.read_csv(\"test.csv\")\n",
    "# #test['dt_obj'] =pd.to_datetime(test2['datetime'], format='%Y-%m-%d %H:%M:%S')\n",
    "\n",
    "# # # predict from specific model/stack\n",
    "# #i = 1  # index of model to use\n",
    "\n",
    "# for i in range(0, 15):\n",
    "#     model_to_use = predictor_r.get_model_names()[i]\n",
    "# #y_pred_c = predictor_c_p.predict(test, model=model_to_use)\n",
    "#     print(i);print(model_to_use);\n",
    "# #LightGBM\\T2"
   ]
  },
  {
   "cell_type": "code",
   "execution_count": null,
   "id": "33f1152a",
   "metadata": {
    "scrolled": true
   },
   "outputs": [],
   "source": [
    "# #test2 = pd.read_csv(\"test.csv\")\n",
    "# #test['dt_obj'] =pd.to_datetime(test2['datetime'], format='%Y-%m-%d %H:%M:%S')\n",
    "\n",
    "# # # predict from specific model/stack\n",
    "# i = 6  # index of model to use\n",
    "\n",
    "# #for i in range(0, 15):\n",
    "# model_to_use = predictor_r.get_model_names()[i]\n",
    "# print(i);print(model_to_use);\n",
    "\n",
    "# y_pred_r = predictor_r.predict(test, model=model_to_use)\n",
    "# #LightGBM\\T2"
   ]
  },
  {
   "cell_type": "code",
   "execution_count": null,
   "id": "252e53dc",
   "metadata": {
    "scrolled": true
   },
   "outputs": [],
   "source": [
    "predictor_c.fit_summary()\n",
    "\n",
    "### Review AutoGluon's training run with ranking of models that did the best.\n",
    "\n",
    "predictor_c.leaderboard(silent=True).plot(kind=\"bar\", x=\"model\", y=\"score_val\")\n",
    "\n",
    "### Create predictions from test dataset\n",
    "\n",
    "# print(\"AutoGluon infers problem type is: \", predictor_c.problem_type)\n",
    "# print(\"AutoGluon identified the following types of features:\")\n",
    "# print(predictor_c.feature_metadata)"
   ]
  },
  {
   "cell_type": "code",
   "execution_count": null,
   "id": "b74b905e",
   "metadata": {
    "scrolled": true
   },
   "outputs": [],
   "source": [
    "test.info()"
   ]
  },
  {
   "cell_type": "code",
   "execution_count": null,
   "id": "2bbf2021",
   "metadata": {
    "scrolled": true
   },
   "outputs": [],
   "source": [
    "y_pred_r\n"
   ]
  },
  {
   "cell_type": "code",
   "execution_count": null,
   "id": "3efeaee4",
   "metadata": {
    "scrolled": true
   },
   "outputs": [],
   "source": [
    "y_pred_r[y_pred_r<0]"
   ]
  },
  {
   "cell_type": "code",
   "execution_count": null,
   "id": "e1c392fd",
   "metadata": {
    "scrolled": true
   },
   "outputs": [],
   "source": [
    "y_pred_c[y_pred_c<0]"
   ]
  },
  {
   "cell_type": "code",
   "execution_count": null,
   "id": "d1c29ddc",
   "metadata": {
    "scrolled": true
   },
   "outputs": [],
   "source": [
    "result = pd.concat([y_pred_r, y_pred_c], axis=1, join='inner')\n",
    "\n",
    "result['count']=(round(result['registered'])+result['casual']).astype('int')\n",
    "\n",
    "result=result.drop(\"registered\",axis=1)\n",
    "\n",
    "result=result.drop(\"casual\",axis=1)\n",
    "\n",
    "test3 = pd.read_csv(\"test.csv\")\n",
    "\n",
    "result['datetime']=test3['datetime']\n",
    "\n",
    "result[result['count'] < 0]"
   ]
  },
  {
   "cell_type": "code",
   "execution_count": null,
   "id": "c802bc31",
   "metadata": {
    "scrolled": true
   },
   "outputs": [],
   "source": [
    "train_c.info()"
   ]
  },
  {
   "cell_type": "code",
   "execution_count": null,
   "id": "4a36d5ce",
   "metadata": {
    "scrolled": true
   },
   "outputs": [],
   "source": [
    "\n",
    "\n",
    "\n",
    "\n",
    "\n",
    "\n",
    "result.loc[result['count'] < 0 , 'count'] = 0\n",
    "\n",
    "submission=result\n",
    "\n",
    "submission.to_csv(\"submission.csv\", index=False)\n",
    "\n",
    "import json\n",
    "kaggle_username = \"kanericaws\"\n",
    "kaggle_key = \"9c72a930e84f7c1845fbc803dc7adfdc\"\n",
    "\n",
    "!kaggle competitions submit -c bike-sharing-demand -f submission.csv -m \"drop datetime string. feature enginnering. use regression instead of classification in casual, num_bag_folds=10, num_bag_sets=1, num_stack_levels=3,time_limit=300, R2 metric\""
   ]
  },
  {
   "cell_type": "code",
   "execution_count": null,
   "id": "5c14fee9",
   "metadata": {
    "scrolled": true
   },
   "outputs": [],
   "source": []
  }
 ],
 "metadata": {
  "kernelspec": {
   "display_name": "Python 3 (ipykernel)",
   "language": "python",
   "name": "python3"
  },
  "language_info": {
   "codemirror_mode": {
    "name": "ipython",
    "version": 3
   },
   "file_extension": ".py",
   "mimetype": "text/x-python",
   "name": "python",
   "nbconvert_exporter": "python",
   "pygments_lexer": "ipython3",
   "version": "3.9.12"
  }
 },
 "nbformat": 4,
 "nbformat_minor": 5
}
