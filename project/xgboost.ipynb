{
 "cells": [
  {
   "cell_type": "code",
   "execution_count": 1,
   "id": "278510fc",
   "metadata": {},
   "outputs": [
    {
     "name": "stdout",
     "output_type": "stream",
     "text": [
      "abc\n"
     ]
    }
   ],
   "source": [
    "print(\"abc\")"
   ]
  },
  {
   "cell_type": "code",
   "execution_count": 2,
   "id": "6f05d970",
   "metadata": {},
   "outputs": [
    {
     "data": {
      "text/html": [
       "<div>\n",
       "<style scoped>\n",
       "    .dataframe tbody tr th:only-of-type {\n",
       "        vertical-align: middle;\n",
       "    }\n",
       "\n",
       "    .dataframe tbody tr th {\n",
       "        vertical-align: top;\n",
       "    }\n",
       "\n",
       "    .dataframe thead th {\n",
       "        text-align: right;\n",
       "    }\n",
       "</style>\n",
       "<table border=\"1\" class=\"dataframe\">\n",
       "  <thead>\n",
       "    <tr style=\"text-align: right;\">\n",
       "      <th></th>\n",
       "      <th>datetime</th>\n",
       "      <th>season</th>\n",
       "      <th>holiday</th>\n",
       "      <th>workingday</th>\n",
       "      <th>weather</th>\n",
       "      <th>temp</th>\n",
       "      <th>atemp</th>\n",
       "      <th>humidity</th>\n",
       "      <th>windspeed</th>\n",
       "      <th>dt_obj</th>\n",
       "      <th>...</th>\n",
       "      <th>month</th>\n",
       "      <th>day</th>\n",
       "      <th>hour</th>\n",
       "      <th>min</th>\n",
       "      <th>second</th>\n",
       "      <th>dayofweek</th>\n",
       "      <th>hr_label</th>\n",
       "      <th>temp_label</th>\n",
       "      <th>hum_label</th>\n",
       "      <th>wind_label</th>\n",
       "    </tr>\n",
       "  </thead>\n",
       "  <tbody>\n",
       "  </tbody>\n",
       "</table>\n",
       "<p>0 rows × 21 columns</p>\n",
       "</div>"
      ],
      "text/plain": [
       "Empty DataFrame\n",
       "Columns: [datetime, season, holiday, workingday, weather, temp, atemp, humidity, windspeed, dt_obj, year, month, day, hour, min, second, dayofweek, hr_label, temp_label, hum_label, wind_label]\n",
       "Index: []\n",
       "\n",
       "[0 rows x 21 columns]"
      ]
     },
     "execution_count": 2,
     "metadata": {},
     "output_type": "execute_result"
    }
   ],
   "source": [
    "import pandas as pd\n",
    "from autogluon.tabular import TabularPredictor\n",
    "\n",
    "train = pd.read_csv(\"train.csv\")\n",
    "train.head()\n",
    "\n",
    "test = pd.read_csv(\"test.csv\")\n",
    "test.head()\n",
    "\n",
    "#convert str to datetime object\n",
    "#format='%Y%m%d-%H%M%S'\n",
    "#20210328-200000\n",
    "#df['DataFrame Column'] = pd.to_datetime(df['DataFrame Column'], format=specify your format)\n",
    "\n",
    "train['dt_obj'] =pd.to_datetime(train['datetime'], format='%Y-%m-%d %H:%M:%S')\n",
    "test['dt_obj'] =pd.to_datetime(test['datetime'], format='%Y-%m-%d %H:%M:%S')\n",
    "\n",
    "# create a new feature\n",
    "#df['Age Category'] = 'Over 30'\n",
    "#df.loc[df['Age'] < 30, 'Age Category'] = 'Under 30'\n",
    "train['year'] = train['dt_obj'].dt.year\n",
    "train['month'] = train['dt_obj'].dt.month\n",
    "train['day'] = train['dt_obj'].dt.day\n",
    "train['hour'] = train['dt_obj'].dt.hour\n",
    "train['min'] = train['dt_obj'].dt.minute\n",
    "train['second'] = train['dt_obj'].dt.second\n",
    "train['dayofweek'] = train[\"dt_obj\"].dt.dayofweek\n",
    "\n",
    "test['year'] = test['dt_obj'].dt.year\n",
    "test['month'] = test['dt_obj'].dt.month\n",
    "test['day'] = test['dt_obj'].dt.day\n",
    "test['hour'] = test['dt_obj'].dt.hour\n",
    "test['min'] = test['dt_obj'].dt.minute\n",
    "test['second'] = test['dt_obj'].dt.second\n",
    "test['dayofweek'] = test[\"dt_obj\"].dt.dayofweek\n",
    "\n",
    "train['season']=0\n",
    "\n",
    "#winter\n",
    "train.loc[train['month'] == 1 , 'season'] = 1\n",
    "train.loc[train['month'] == 2 , 'season'] = 1\n",
    "train.loc[train['month'] == 12 , 'season'] = 1\n",
    "#spring\n",
    "train.loc[train['month'] == 3 , 'season'] = 2\n",
    "train.loc[train['month'] == 4 , 'season'] = 2\n",
    "train.loc[train['month'] == 5 , 'season'] = 2\n",
    "#summer\n",
    "train.loc[train['month'] == 6 , 'season'] = 3\n",
    "train.loc[train['month'] == 7 , 'season'] = 3\n",
    "train.loc[train['month'] == 8 , 'season'] = 3\n",
    "\n",
    "#winter\n",
    "train.loc[train['month'] == 9, 'season'] = 4\n",
    "train.loc[train['month'] == 10 , 'season'] = 4\n",
    "train.loc[train['month'] == 11 , 'season'] = 4\n",
    "\n",
    "test['season']=0\n",
    "#winter\n",
    "test.loc[test['month'] == 1 , 'season'] = 1\n",
    "test.loc[test['month'] == 2 , 'season'] = 1\n",
    "test.loc[test['month'] == 12 , 'season'] = 1\n",
    "#spring\n",
    "test.loc[test['month'] == 3 , 'season'] = 2\n",
    "test.loc[test['month'] == 4 , 'season'] = 2\n",
    "test.loc[test['month'] == 5 , 'season'] = 2\n",
    "#summer\n",
    "test.loc[test['month'] == 6 , 'season'] = 3\n",
    "test.loc[test['month'] == 7 , 'season'] = 3\n",
    "test.loc[test['month'] == 8 , 'season'] = 3\n",
    "\n",
    "#winter\n",
    "test.loc[test['month'] == 9, 'season'] = 4\n",
    "test.loc[test['month'] == 10 , 'season'] = 4\n",
    "test.loc[test['month'] == 11 , 'season'] = 4\n",
    "\n",
    "#morning, lunch, and evening rush hour, 7-9am, 11am-1pm, and 5-6pm\n",
    "#hr_label\n",
    "train['hr_label']=0\n",
    "#7-9\n",
    "train.loc[train['hour'] == 7 , 'hr_label'] = 1\n",
    "train.loc[train['hour'] == 8 , 'hr_label'] = 1\n",
    "train.loc[train['hour'] == 9 , 'hr_label'] = 1\n",
    "#11-13\n",
    "train.loc[train['hour'] == 11 , 'hr_label'] = 2\n",
    "train.loc[train['hour'] == 12, 'hr_label'] = 2\n",
    "train.loc[train['hour'] == 13 , 'hr_label'] = 2\n",
    "#17-18\n",
    "train.loc[train['hour'] == 17 , 'hr_label'] = 3\n",
    "train.loc[train['hour'] == 18 , 'hr_label'] = 3\n",
    "\n",
    "\n",
    "\n",
    "#morning, lunch, and evening rush hour, 7-9am, 11am-1pm, and 5-6pm\n",
    "#hr_label\n",
    "test['hr_label']=0\n",
    "#7-9\n",
    "test.loc[test['hour'] == 7 , 'hr_label'] = 1\n",
    "test.loc[test['hour'] == 8 , 'hr_label'] = 1\n",
    "test.loc[test['hour'] == 9 , 'hr_label'] = 1\n",
    "#11-13\n",
    "test.loc[test['hour'] == 11 , 'hr_label'] = 2\n",
    "test.loc[test['hour'] == 12, 'hr_label'] = 2\n",
    "test.loc[test['hour'] == 13 , 'hr_label'] = 2\n",
    "#17-18\n",
    "test.loc[test['hour'] == 17 , 'hr_label'] = 3\n",
    "test.loc[test['hour'] == 18 , 'hr_label'] = 3\n",
    "\n",
    "test['temp_label']=0\n",
    "#cold\n",
    "test.loc[test['temp'] <15  , 'temp_label'] = 1\n",
    "#mild\n",
    "test.loc[((test['temp'] >= 15) &( test['temp'] <= 26)), 'temp_label'] = 2\n",
    "#hot\n",
    "test.loc[test['temp'] > 26 , 'temp_label'] = 3\n",
    "\n",
    "train['temp_label']=0\n",
    "#cold\n",
    "train.loc[train['temp'] <15  , 'temp_label'] = 1\n",
    "#mild\n",
    "train.loc[((train['temp'] >= 15) &( train['temp'] <= 26)), 'temp_label'] = 2\n",
    "#hot\n",
    "train.loc[train['temp'] > 26 , 'temp_label'] = 3\n",
    "\n",
    "\n",
    "train['hum_label']=0\n",
    "#not-hum\n",
    "train.loc[train['humidity'] <55  , 'hum_label'] = 1\n",
    "#hum\n",
    "train.loc[(train['humidity'] >= 55), 'hum_label'] = 2\n",
    "\n",
    "\n",
    "test['hum_label']=0\n",
    "#not-hum\n",
    "test.loc[test['humidity'] <55  , 'hum_label'] = 1\n",
    "#hum\n",
    "test.loc[(test['humidity'] >= 55), 'hum_label'] = 2\n",
    "\n",
    "test['windspeed']=0\n",
    "#not-windy\n",
    "test.loc[test['windspeed'] <20  , 'wind_label'] = 1\n",
    "#windy\n",
    "test.loc[(test['windspeed'] >= 20), 'wind_label'] = 2\n",
    "\n",
    "train['windspeed']=0\n",
    "#not-windy\n",
    "train.loc[train['windspeed'] <20  , 'wind_label'] = 1\n",
    "#windy\n",
    "train.loc[(train['windspeed'] >= 20), 'wind_label'] = 2\n",
    "\n",
    "test[test['wind_label'] <= 0]"
   ]
  },
  {
   "cell_type": "code",
   "execution_count": null,
   "id": "09d2f8f9",
   "metadata": {},
   "outputs": [],
   "source": [
    "train.info()"
   ]
  },
  {
   "cell_type": "code",
   "execution_count": null,
   "id": "f2298f8f",
   "metadata": {},
   "outputs": [],
   "source": [
    "# Change the date column to a datetime\n",
    "#df.loc[:, \"date\"] = pd.to_datetime(df.loc[:, \"date\"])\n",
    "# Change weather column to a category \n",
    "train.loc[:, \"hr_label\"] = train[\"hr_label\"].astype(\"category\")\n",
    "train.loc[:, \"temp_label\"] = train[\"temp_label\"].astype(\"category\")\n",
    "train.loc[:, \"hum_label\"] = train[\"hum_label\"].astype(\"category\")\n",
    "train.loc[:, \"wind_label\"] = train[\"wind_label\"].astype(\"category\")"
   ]
  },
  {
   "cell_type": "code",
   "execution_count": null,
   "id": "57bc7951",
   "metadata": {},
   "outputs": [],
   "source": [
    "test.loc[:, \"hr_label\"] = test[\"hr_label\"].astype(\"category\")\n",
    "test.loc[:, \"temp_label\"] = test[\"temp_label\"].astype(\"category\")\n",
    "test.loc[:, \"hum_label\"] = test[\"hum_label\"].astype(\"category\")\n",
    "test.loc[:, \"wind_label\"] = test[\"wind_label\"].astype(\"category\")"
   ]
  },
  {
   "cell_type": "code",
   "execution_count": null,
   "id": "554f278a",
   "metadata": {},
   "outputs": [],
   "source": [
    "train.info()"
   ]
  },
  {
   "cell_type": "code",
   "execution_count": null,
   "id": "e2f9bfa6",
   "metadata": {},
   "outputs": [],
   "source": [
    "test.info()"
   ]
  },
  {
   "cell_type": "code",
   "execution_count": 3,
   "id": "f65fdd66",
   "metadata": {},
   "outputs": [],
   "source": [
    "train_c=train\n",
    "train_c = train_c.drop('registered',axis=1)\n",
    "train_c = train_c.drop('count',axis=1)\n",
    "\n",
    "train_r=train\n",
    "train_r = train_r.drop('casual',axis=1)\n",
    "train_r = train_r.drop('count',axis=1)\n"
   ]
  },
  {
   "cell_type": "code",
   "execution_count": null,
   "id": "8993bc6c",
   "metadata": {},
   "outputs": [],
   "source": [
    "train_c.info()"
   ]
  },
  {
   "cell_type": "code",
   "execution_count": null,
   "id": "07e69dc6",
   "metadata": {},
   "outputs": [],
   "source": [
    "train_r.info()"
   ]
  },
  {
   "cell_type": "code",
   "execution_count": null,
   "id": "34a90cb6",
   "metadata": {},
   "outputs": [],
   "source": [
    "test.info()"
   ]
  },
  {
   "cell_type": "code",
   "execution_count": 4,
   "id": "1476d2cd",
   "metadata": {},
   "outputs": [],
   "source": [
    "train_r = train_r.drop('datetime',axis=1)\n",
    "train_r = train_r.drop('dt_obj',axis=1)\n",
    "train_c = train_c.drop('datetime',axis=1)\n",
    "train_c = train_c.drop('dt_obj',axis=1)\n",
    "\n",
    "test = test.drop('datetime',axis=1)\n",
    "test = test.drop('dt_obj',axis=1)\n",
    "\n"
   ]
  },
  {
   "cell_type": "code",
   "execution_count": 5,
   "id": "49c0dc16",
   "metadata": {},
   "outputs": [
    {
     "name": "stdout",
     "output_type": "stream",
     "text": [
      "<class 'pandas.core.frame.DataFrame'>\n",
      "RangeIndex: 10886 entries, 0 to 10885\n",
      "Data columns (total 20 columns):\n",
      " #   Column      Non-Null Count  Dtype  \n",
      "---  ------      --------------  -----  \n",
      " 0   season      10886 non-null  int64  \n",
      " 1   holiday     10886 non-null  int64  \n",
      " 2   workingday  10886 non-null  int64  \n",
      " 3   weather     10886 non-null  int64  \n",
      " 4   temp        10886 non-null  float64\n",
      " 5   atemp       10886 non-null  float64\n",
      " 6   humidity    10886 non-null  int64  \n",
      " 7   windspeed   10886 non-null  int64  \n",
      " 8   casual      10886 non-null  int64  \n",
      " 9   year        10886 non-null  int64  \n",
      " 10  month       10886 non-null  int64  \n",
      " 11  day         10886 non-null  int64  \n",
      " 12  hour        10886 non-null  int64  \n",
      " 13  min         10886 non-null  int64  \n",
      " 14  second      10886 non-null  int64  \n",
      " 15  dayofweek   10886 non-null  int64  \n",
      " 16  hr_label    10886 non-null  int64  \n",
      " 17  temp_label  10886 non-null  int64  \n",
      " 18  hum_label   10886 non-null  int64  \n",
      " 19  wind_label  10886 non-null  float64\n",
      "dtypes: float64(3), int64(17)\n",
      "memory usage: 1.7 MB\n"
     ]
    }
   ],
   "source": [
    "train_c.info()"
   ]
  },
  {
   "cell_type": "code",
   "execution_count": 6,
   "id": "25c96576",
   "metadata": {},
   "outputs": [
    {
     "name": "stdout",
     "output_type": "stream",
     "text": [
      "<class 'pandas.core.frame.DataFrame'>\n",
      "RangeIndex: 10886 entries, 0 to 10885\n",
      "Data columns (total 20 columns):\n",
      " #   Column      Non-Null Count  Dtype  \n",
      "---  ------      --------------  -----  \n",
      " 0   season      10886 non-null  int64  \n",
      " 1   holiday     10886 non-null  int64  \n",
      " 2   workingday  10886 non-null  int64  \n",
      " 3   weather     10886 non-null  int64  \n",
      " 4   temp        10886 non-null  float64\n",
      " 5   atemp       10886 non-null  float64\n",
      " 6   humidity    10886 non-null  int64  \n",
      " 7   windspeed   10886 non-null  int64  \n",
      " 8   registered  10886 non-null  int64  \n",
      " 9   year        10886 non-null  int64  \n",
      " 10  month       10886 non-null  int64  \n",
      " 11  day         10886 non-null  int64  \n",
      " 12  hour        10886 non-null  int64  \n",
      " 13  min         10886 non-null  int64  \n",
      " 14  second      10886 non-null  int64  \n",
      " 15  dayofweek   10886 non-null  int64  \n",
      " 16  hr_label    10886 non-null  int64  \n",
      " 17  temp_label  10886 non-null  int64  \n",
      " 18  hum_label   10886 non-null  int64  \n",
      " 19  wind_label  10886 non-null  float64\n",
      "dtypes: float64(3), int64(17)\n",
      "memory usage: 1.7 MB\n"
     ]
    }
   ],
   "source": [
    "train_r.info()"
   ]
  },
  {
   "cell_type": "code",
   "execution_count": 7,
   "id": "89a26c6e",
   "metadata": {},
   "outputs": [
    {
     "name": "stdout",
     "output_type": "stream",
     "text": [
      "<class 'pandas.core.frame.DataFrame'>\n",
      "RangeIndex: 6493 entries, 0 to 6492\n",
      "Data columns (total 19 columns):\n",
      " #   Column      Non-Null Count  Dtype  \n",
      "---  ------      --------------  -----  \n",
      " 0   season      6493 non-null   int64  \n",
      " 1   holiday     6493 non-null   int64  \n",
      " 2   workingday  6493 non-null   int64  \n",
      " 3   weather     6493 non-null   int64  \n",
      " 4   temp        6493 non-null   float64\n",
      " 5   atemp       6493 non-null   float64\n",
      " 6   humidity    6493 non-null   int64  \n",
      " 7   windspeed   6493 non-null   int64  \n",
      " 8   year        6493 non-null   int64  \n",
      " 9   month       6493 non-null   int64  \n",
      " 10  day         6493 non-null   int64  \n",
      " 11  hour        6493 non-null   int64  \n",
      " 12  min         6493 non-null   int64  \n",
      " 13  second      6493 non-null   int64  \n",
      " 14  dayofweek   6493 non-null   int64  \n",
      " 15  hr_label    6493 non-null   int64  \n",
      " 16  temp_label  6493 non-null   int64  \n",
      " 17  hum_label   6493 non-null   int64  \n",
      " 18  wind_label  6493 non-null   float64\n",
      "dtypes: float64(3), int64(16)\n",
      "memory usage: 963.9 KB\n"
     ]
    }
   ],
   "source": [
    "test.info()"
   ]
  },
  {
   "cell_type": "code",
   "execution_count": null,
   "id": "9d7ab05b",
   "metadata": {},
   "outputs": [],
   "source": [
    "#import numpy as np\n",
    "#import pandas as pd\n",
    "#from sklearn import datasets\n",
    "#from sklearn.metrics import r2_score, accuracy_score\n",
    "#from sklearn.model_selection import train_test_split\n",
    "import xgboost as xgb"
   ]
  },
  {
   "cell_type": "code",
   "execution_count": null,
   "id": "4f2e13f5",
   "metadata": {},
   "outputs": [],
   "source": [
    "#we can demonstrate this with a complete example, listed below.\n",
    "\n",
    "# fit a final xgboost model on the housing dataset and make a prediction\n",
    "from numpy import asarray\n",
    "from pandas import read_csv\n",
    "from xgboost import XGBRegressor\n",
    "# load the dataset\n",
    "url = 'https://raw.githubusercontent.com/jbrownlee/Datasets/master/housing.csv'\n",
    "dataframe = read_csv(url, header=None)\n",
    "data = dataframe.values\n",
    "# split dataset into input and output columns\n",
    "X, y = data[:, :-1], data[:, -1]\n",
    "# define model\n",
    "model = XGBRegressor()\n",
    "# fit model\n",
    "model.fit(X, y)\n",
    "# define new data\n",
    "row = [0.00632,18.00,2.310,0,0.5380,6.5750,65.20,4.0900,1,296.0,15.30,396.90,4.98]\n",
    "new_data = asarray([row])\n",
    "# make a prediction\n",
    "yhat = model.predict(new_data)\n",
    "# summarize prediction\n",
    "print('Predicted: %.3f' % yhat)"
   ]
  },
  {
   "cell_type": "code",
   "execution_count": 13,
   "id": "d12003d6",
   "metadata": {},
   "outputs": [
    {
     "name": "stderr",
     "output_type": "stream",
     "text": [
      "C:\\Users\\Theraphi_WellnessSed\\anaconda3\\lib\\site-packages\\xgboost\\compat.py:31: FutureWarning: pandas.Int64Index is deprecated and will be removed from pandas in a future version. Use pandas.Index with the appropriate dtype instead.\n",
      "  from pandas import MultiIndex, Int64Index\n"
     ]
    }
   ],
   "source": [
    "#we can demonstrate this with a complete example, listed below.\n",
    "\n",
    "# fit a final xgboost model on the housing dataset and make a prediction\n",
    "from numpy import asarray\n",
    "from pandas import read_csv\n",
    "from xgboost import XGBRegressor\n",
    "# load the dataset\n",
    "#url = 'https://raw.githubusercontent.com/jbrownlee/Datasets/master/housing.csv'\n",
    "#dataframe = read_csv(url, header=None)\n",
    "#data = dataframe.values\n",
    "# split dataset into input and output columns\n",
    "#X, y = data[:, :-1], data[:, -1]\n",
    "# define model\n",
    "model = XGBRegressor()\n"
   ]
  },
  {
   "cell_type": "code",
   "execution_count": 8,
   "id": "fb415955",
   "metadata": {},
   "outputs": [],
   "source": [
    "r_Y=train_r[\"registered\"]"
   ]
  },
  {
   "cell_type": "code",
   "execution_count": 31,
   "id": "5ba05266",
   "metadata": {},
   "outputs": [],
   "source": [
    "c_Y=train_c[\"casual\"]"
   ]
  },
  {
   "cell_type": "code",
   "execution_count": 9,
   "id": "9a32c9ac",
   "metadata": {},
   "outputs": [
    {
     "name": "stdout",
     "output_type": "stream",
     "text": [
      "<class 'pandas.core.series.Series'>\n",
      "RangeIndex: 10886 entries, 0 to 10885\n",
      "Series name: registered\n",
      "Non-Null Count  Dtype\n",
      "--------------  -----\n",
      "10886 non-null  int64\n",
      "dtypes: int64(1)\n",
      "memory usage: 85.2 KB\n"
     ]
    }
   ],
   "source": [
    "r_Y.info()"
   ]
  },
  {
   "cell_type": "code",
   "execution_count": 32,
   "id": "f8dd5f54",
   "metadata": {},
   "outputs": [
    {
     "name": "stdout",
     "output_type": "stream",
     "text": [
      "<class 'pandas.core.series.Series'>\n",
      "RangeIndex: 10886 entries, 0 to 10885\n",
      "Series name: casual\n",
      "Non-Null Count  Dtype\n",
      "--------------  -----\n",
      "10886 non-null  int64\n",
      "dtypes: int64(1)\n",
      "memory usage: 85.2 KB\n"
     ]
    }
   ],
   "source": [
    "c_Y.info()"
   ]
  },
  {
   "cell_type": "code",
   "execution_count": 10,
   "id": "ac4728e8",
   "metadata": {},
   "outputs": [],
   "source": [
    "r_X=train_r.drop(\"registered\",axis=1)"
   ]
  },
  {
   "cell_type": "code",
   "execution_count": 27,
   "id": "06925d37",
   "metadata": {},
   "outputs": [],
   "source": [
    "c_X=train_c.drop(\"casual\",axis=1)"
   ]
  },
  {
   "cell_type": "code",
   "execution_count": 30,
   "id": "d1e4b3bc",
   "metadata": {},
   "outputs": [
    {
     "name": "stdout",
     "output_type": "stream",
     "text": [
      "<class 'pandas.core.frame.DataFrame'>\n",
      "RangeIndex: 10886 entries, 0 to 10885\n",
      "Data columns (total 19 columns):\n",
      " #   Column      Non-Null Count  Dtype  \n",
      "---  ------      --------------  -----  \n",
      " 0   season      10886 non-null  int64  \n",
      " 1   holiday     10886 non-null  int64  \n",
      " 2   workingday  10886 non-null  int64  \n",
      " 3   weather     10886 non-null  int64  \n",
      " 4   temp        10886 non-null  float64\n",
      " 5   atemp       10886 non-null  float64\n",
      " 6   humidity    10886 non-null  int64  \n",
      " 7   windspeed   10886 non-null  int64  \n",
      " 8   year        10886 non-null  int64  \n",
      " 9   month       10886 non-null  int64  \n",
      " 10  day         10886 non-null  int64  \n",
      " 11  hour        10886 non-null  int64  \n",
      " 12  min         10886 non-null  int64  \n",
      " 13  second      10886 non-null  int64  \n",
      " 14  dayofweek   10886 non-null  int64  \n",
      " 15  hr_label    10886 non-null  int64  \n",
      " 16  temp_label  10886 non-null  int64  \n",
      " 17  hum_label   10886 non-null  int64  \n",
      " 18  wind_label  10886 non-null  float64\n",
      "dtypes: float64(3), int64(16)\n",
      "memory usage: 1.6 MB\n"
     ]
    }
   ],
   "source": [
    "c_X.info()"
   ]
  },
  {
   "cell_type": "code",
   "execution_count": 11,
   "id": "9a7ba4b9",
   "metadata": {},
   "outputs": [
    {
     "name": "stdout",
     "output_type": "stream",
     "text": [
      "<class 'pandas.core.frame.DataFrame'>\n",
      "RangeIndex: 10886 entries, 0 to 10885\n",
      "Data columns (total 19 columns):\n",
      " #   Column      Non-Null Count  Dtype  \n",
      "---  ------      --------------  -----  \n",
      " 0   season      10886 non-null  int64  \n",
      " 1   holiday     10886 non-null  int64  \n",
      " 2   workingday  10886 non-null  int64  \n",
      " 3   weather     10886 non-null  int64  \n",
      " 4   temp        10886 non-null  float64\n",
      " 5   atemp       10886 non-null  float64\n",
      " 6   humidity    10886 non-null  int64  \n",
      " 7   windspeed   10886 non-null  int64  \n",
      " 8   year        10886 non-null  int64  \n",
      " 9   month       10886 non-null  int64  \n",
      " 10  day         10886 non-null  int64  \n",
      " 11  hour        10886 non-null  int64  \n",
      " 12  min         10886 non-null  int64  \n",
      " 13  second      10886 non-null  int64  \n",
      " 14  dayofweek   10886 non-null  int64  \n",
      " 15  hr_label    10886 non-null  int64  \n",
      " 16  temp_label  10886 non-null  int64  \n",
      " 17  hum_label   10886 non-null  int64  \n",
      " 18  wind_label  10886 non-null  float64\n",
      "dtypes: float64(3), int64(16)\n",
      "memory usage: 1.6 MB\n"
     ]
    }
   ],
   "source": [
    "r_X.info()"
   ]
  },
  {
   "cell_type": "code",
   "execution_count": 14,
   "id": "abf3ad47",
   "metadata": {},
   "outputs": [
    {
     "name": "stderr",
     "output_type": "stream",
     "text": [
      "C:\\Users\\Theraphi_WellnessSed\\anaconda3\\lib\\site-packages\\xgboost\\data.py:208: FutureWarning: pandas.Int64Index is deprecated and will be removed from pandas in a future version. Use pandas.Index with the appropriate dtype instead.\n",
      "  from pandas import MultiIndex, Int64Index\n"
     ]
    },
    {
     "data": {
      "text/plain": [
       "XGBRegressor(base_score=0.5, booster='gbtree', colsample_bylevel=1,\n",
       "             colsample_bynode=1, colsample_bytree=1, gamma=0, gpu_id=-1,\n",
       "             importance_type='gain', interaction_constraints='',\n",
       "             learning_rate=0.300000012, max_delta_step=0, max_depth=6,\n",
       "             min_child_weight=1, missing=nan, monotone_constraints='()',\n",
       "             n_estimators=100, n_jobs=8, num_parallel_tree=1, random_state=0,\n",
       "             reg_alpha=0, reg_lambda=1, scale_pos_weight=1, subsample=1,\n",
       "             tree_method='exact', validate_parameters=1, verbosity=None)"
      ]
     },
     "execution_count": 14,
     "metadata": {},
     "output_type": "execute_result"
    }
   ],
   "source": [
    "# fit model\n",
    "\n",
    "model.fit(r_X, r_Y)\n",
    "# define new data\n",
    "#row = [0.00632,18.00,2.310,0,0.5380,6.5750,65.20,4.0900,1,296.0,15.30,396.90,4.98]\n",
    "#new_data = asarray([row])\n",
    "\n",
    "# summarize prediction\n",
    "#print('Predicted: %.3f' % yhat)"
   ]
  },
  {
   "cell_type": "code",
   "execution_count": 33,
   "id": "8f220cde",
   "metadata": {},
   "outputs": [
    {
     "name": "stderr",
     "output_type": "stream",
     "text": [
      "C:\\Users\\Theraphi_WellnessSed\\anaconda3\\lib\\site-packages\\xgboost\\data.py:208: FutureWarning: pandas.Int64Index is deprecated and will be removed from pandas in a future version. Use pandas.Index with the appropriate dtype instead.\n",
      "  from pandas import MultiIndex, Int64Index\n"
     ]
    },
    {
     "data": {
      "text/plain": [
       "XGBRegressor(base_score=0.5, booster='gbtree', colsample_bylevel=1,\n",
       "             colsample_bynode=1, colsample_bytree=1, gamma=0, gpu_id=-1,\n",
       "             importance_type='gain', interaction_constraints='',\n",
       "             learning_rate=0.300000012, max_delta_step=0, max_depth=6,\n",
       "             min_child_weight=1, missing=nan, monotone_constraints='()',\n",
       "             n_estimators=100, n_jobs=8, num_parallel_tree=1, random_state=0,\n",
       "             reg_alpha=0, reg_lambda=1, scale_pos_weight=1, subsample=1,\n",
       "             tree_method='exact', validate_parameters=1, verbosity=None)"
      ]
     },
     "execution_count": 33,
     "metadata": {},
     "output_type": "execute_result"
    }
   ],
   "source": [
    "model_c = XGBRegressor()\n",
    "model_c.fit(c_X, c_Y)"
   ]
  },
  {
   "cell_type": "code",
   "execution_count": 34,
   "id": "3fcf7fd8",
   "metadata": {},
   "outputs": [],
   "source": [
    "y_test_c = model_c.predict(test)"
   ]
  },
  {
   "cell_type": "code",
   "execution_count": 15,
   "id": "f865ff69",
   "metadata": {},
   "outputs": [],
   "source": [
    "# make a prediction\n",
    "y_test = model.predict(test)"
   ]
  },
  {
   "cell_type": "code",
   "execution_count": 16,
   "id": "33ff333a",
   "metadata": {},
   "outputs": [
    {
     "data": {
      "text/plain": [
       "array([ 14.864106  ,   3.2923684 ,  -0.33939043, ..., 130.57358   ,\n",
       "        94.10679   ,  58.532227  ], dtype=float32)"
      ]
     },
     "execution_count": 16,
     "metadata": {},
     "output_type": "execute_result"
    }
   ],
   "source": [
    "y_test"
   ]
  },
  {
   "cell_type": "code",
   "execution_count": 35,
   "id": "1a0b2a24",
   "metadata": {},
   "outputs": [
    {
     "data": {
      "text/plain": [
       "array([1.895701 , 2.451388 , 2.0774739, ..., 7.888834 , 6.9140353,\n",
       "       2.4442158], dtype=float32)"
      ]
     },
     "execution_count": 35,
     "metadata": {},
     "output_type": "execute_result"
    }
   ],
   "source": [
    "y_test_c"
   ]
  },
  {
   "cell_type": "code",
   "execution_count": 18,
   "id": "720966e0",
   "metadata": {},
   "outputs": [],
   "source": [
    "df = pd.DataFrame(y_test)"
   ]
  },
  {
   "cell_type": "code",
   "execution_count": 36,
   "id": "c48b4089",
   "metadata": {},
   "outputs": [],
   "source": [
    "df_c = pd.DataFrame(y_test_c)"
   ]
  },
  {
   "cell_type": "code",
   "execution_count": 37,
   "id": "b306afda",
   "metadata": {},
   "outputs": [],
   "source": [
    "df_c.rename( columns={0 :'casual'}, inplace=True )"
   ]
  },
  {
   "cell_type": "code",
   "execution_count": 23,
   "id": "b6e9849b",
   "metadata": {},
   "outputs": [
    {
     "name": "stdout",
     "output_type": "stream",
     "text": [
      "<class 'pandas.core.frame.DataFrame'>\n",
      "RangeIndex: 6493 entries, 0 to 6492\n",
      "Data columns (total 1 columns):\n",
      " #   Column  Non-Null Count  Dtype  \n",
      "---  ------  --------------  -----  \n",
      " 0   0       6493 non-null   float32\n",
      "dtypes: float32(1)\n",
      "memory usage: 25.5 KB\n"
     ]
    }
   ],
   "source": [
    "df.info()"
   ]
  },
  {
   "cell_type": "code",
   "execution_count": 38,
   "id": "86ec96cf",
   "metadata": {},
   "outputs": [
    {
     "data": {
      "text/html": [
       "<div>\n",
       "<style scoped>\n",
       "    .dataframe tbody tr th:only-of-type {\n",
       "        vertical-align: middle;\n",
       "    }\n",
       "\n",
       "    .dataframe tbody tr th {\n",
       "        vertical-align: top;\n",
       "    }\n",
       "\n",
       "    .dataframe thead th {\n",
       "        text-align: right;\n",
       "    }\n",
       "</style>\n",
       "<table border=\"1\" class=\"dataframe\">\n",
       "  <thead>\n",
       "    <tr style=\"text-align: right;\">\n",
       "      <th></th>\n",
       "      <th>casual</th>\n",
       "    </tr>\n",
       "  </thead>\n",
       "  <tbody>\n",
       "    <tr>\n",
       "      <th>0</th>\n",
       "      <td>1.895701</td>\n",
       "    </tr>\n",
       "    <tr>\n",
       "      <th>1</th>\n",
       "      <td>2.451388</td>\n",
       "    </tr>\n",
       "    <tr>\n",
       "      <th>2</th>\n",
       "      <td>2.077474</td>\n",
       "    </tr>\n",
       "    <tr>\n",
       "      <th>3</th>\n",
       "      <td>1.843797</td>\n",
       "    </tr>\n",
       "    <tr>\n",
       "      <th>4</th>\n",
       "      <td>1.843797</td>\n",
       "    </tr>\n",
       "  </tbody>\n",
       "</table>\n",
       "</div>"
      ],
      "text/plain": [
       "     casual\n",
       "0  1.895701\n",
       "1  2.451388\n",
       "2  2.077474\n",
       "3  1.843797\n",
       "4  1.843797"
      ]
     },
     "execution_count": 38,
     "metadata": {},
     "output_type": "execute_result"
    }
   ],
   "source": [
    "df_c.head()"
   ]
  },
  {
   "cell_type": "code",
   "execution_count": 41,
   "id": "5460b665",
   "metadata": {},
   "outputs": [
    {
     "data": {
      "text/html": [
       "<div>\n",
       "<style scoped>\n",
       "    .dataframe tbody tr th:only-of-type {\n",
       "        vertical-align: middle;\n",
       "    }\n",
       "\n",
       "    .dataframe tbody tr th {\n",
       "        vertical-align: top;\n",
       "    }\n",
       "\n",
       "    .dataframe thead th {\n",
       "        text-align: right;\n",
       "    }\n",
       "</style>\n",
       "<table border=\"1\" class=\"dataframe\">\n",
       "  <thead>\n",
       "    <tr style=\"text-align: right;\">\n",
       "      <th></th>\n",
       "      <th>casual</th>\n",
       "    </tr>\n",
       "  </thead>\n",
       "  <tbody>\n",
       "  </tbody>\n",
       "</table>\n",
       "</div>"
      ],
      "text/plain": [
       "Empty DataFrame\n",
       "Columns: [casual]\n",
       "Index: []"
      ]
     },
     "execution_count": 41,
     "metadata": {},
     "output_type": "execute_result"
    }
   ],
   "source": [
    "df_c[(df_c['casual']<0)]"
   ]
  },
  {
   "cell_type": "code",
   "execution_count": 40,
   "id": "d8650bfb",
   "metadata": {},
   "outputs": [],
   "source": [
    "df_c.loc[df_c['casual'] < 0 , 'casual'] = 0"
   ]
  },
  {
   "cell_type": "code",
   "execution_count": 26,
   "id": "bf835857",
   "metadata": {},
   "outputs": [
    {
     "data": {
      "text/html": [
       "<div>\n",
       "<style scoped>\n",
       "    .dataframe tbody tr th:only-of-type {\n",
       "        vertical-align: middle;\n",
       "    }\n",
       "\n",
       "    .dataframe tbody tr th {\n",
       "        vertical-align: top;\n",
       "    }\n",
       "\n",
       "    .dataframe thead th {\n",
       "        text-align: right;\n",
       "    }\n",
       "</style>\n",
       "<table border=\"1\" class=\"dataframe\">\n",
       "  <thead>\n",
       "    <tr style=\"text-align: right;\">\n",
       "      <th></th>\n",
       "      <th>registered</th>\n",
       "    </tr>\n",
       "  </thead>\n",
       "  <tbody>\n",
       "    <tr>\n",
       "      <th>0</th>\n",
       "      <td>14.864106</td>\n",
       "    </tr>\n",
       "    <tr>\n",
       "      <th>1</th>\n",
       "      <td>3.292368</td>\n",
       "    </tr>\n",
       "    <tr>\n",
       "      <th>2</th>\n",
       "      <td>-0.339390</td>\n",
       "    </tr>\n",
       "    <tr>\n",
       "      <th>3</th>\n",
       "      <td>-1.954204</td>\n",
       "    </tr>\n",
       "    <tr>\n",
       "      <th>4</th>\n",
       "      <td>-1.954204</td>\n",
       "    </tr>\n",
       "  </tbody>\n",
       "</table>\n",
       "</div>"
      ],
      "text/plain": [
       "   registered\n",
       "0   14.864106\n",
       "1    3.292368\n",
       "2   -0.339390\n",
       "3   -1.954204\n",
       "4   -1.954204"
      ]
     },
     "execution_count": 26,
     "metadata": {},
     "output_type": "execute_result"
    }
   ],
   "source": [
    "df.head()"
   ]
  },
  {
   "cell_type": "code",
   "execution_count": 44,
   "id": "be2c6e55",
   "metadata": {},
   "outputs": [
    {
     "data": {
      "text/html": [
       "<div>\n",
       "<style scoped>\n",
       "    .dataframe tbody tr th:only-of-type {\n",
       "        vertical-align: middle;\n",
       "    }\n",
       "\n",
       "    .dataframe tbody tr th {\n",
       "        vertical-align: top;\n",
       "    }\n",
       "\n",
       "    .dataframe thead th {\n",
       "        text-align: right;\n",
       "    }\n",
       "</style>\n",
       "<table border=\"1\" class=\"dataframe\">\n",
       "  <thead>\n",
       "    <tr style=\"text-align: right;\">\n",
       "      <th></th>\n",
       "      <th>registered</th>\n",
       "    </tr>\n",
       "  </thead>\n",
       "  <tbody>\n",
       "  </tbody>\n",
       "</table>\n",
       "</div>"
      ],
      "text/plain": [
       "Empty DataFrame\n",
       "Columns: [registered]\n",
       "Index: []"
      ]
     },
     "execution_count": 44,
     "metadata": {},
     "output_type": "execute_result"
    }
   ],
   "source": [
    "df[(df['registered']<0)]"
   ]
  },
  {
   "cell_type": "code",
   "execution_count": 43,
   "id": "5a472c2e",
   "metadata": {},
   "outputs": [],
   "source": [
    "df.loc[df['registered'] < 0 , 'registered'] = 0"
   ]
  },
  {
   "cell_type": "code",
   "execution_count": 52,
   "id": "96fdcc41",
   "metadata": {},
   "outputs": [],
   "source": [
    "result = pd.concat([df, df_c], axis=1, join='inner')\n",
    "\n",
    "test3 = pd.read_csv(\"test.csv\")\n",
    "\n",
    "result['datetime']=test3['datetime']\n",
    "\n",
    "result['count']=(round(result['registered'])+round(result['casual'])).astype('int')\n"
   ]
  },
  {
   "cell_type": "code",
   "execution_count": 53,
   "id": "d24f24c2",
   "metadata": {},
   "outputs": [
    {
     "data": {
      "text/html": [
       "<div>\n",
       "<style scoped>\n",
       "    .dataframe tbody tr th:only-of-type {\n",
       "        vertical-align: middle;\n",
       "    }\n",
       "\n",
       "    .dataframe tbody tr th {\n",
       "        vertical-align: top;\n",
       "    }\n",
       "\n",
       "    .dataframe thead th {\n",
       "        text-align: right;\n",
       "    }\n",
       "</style>\n",
       "<table border=\"1\" class=\"dataframe\">\n",
       "  <thead>\n",
       "    <tr style=\"text-align: right;\">\n",
       "      <th></th>\n",
       "      <th>registered</th>\n",
       "      <th>casual</th>\n",
       "      <th>datetime</th>\n",
       "      <th>count</th>\n",
       "    </tr>\n",
       "  </thead>\n",
       "  <tbody>\n",
       "    <tr>\n",
       "      <th>0</th>\n",
       "      <td>14.864106</td>\n",
       "      <td>1.895701</td>\n",
       "      <td>2011-01-20 00:00:00</td>\n",
       "      <td>17</td>\n",
       "    </tr>\n",
       "    <tr>\n",
       "      <th>1</th>\n",
       "      <td>3.292368</td>\n",
       "      <td>2.451388</td>\n",
       "      <td>2011-01-20 01:00:00</td>\n",
       "      <td>5</td>\n",
       "    </tr>\n",
       "    <tr>\n",
       "      <th>2</th>\n",
       "      <td>0.000000</td>\n",
       "      <td>2.077474</td>\n",
       "      <td>2011-01-20 02:00:00</td>\n",
       "      <td>2</td>\n",
       "    </tr>\n",
       "    <tr>\n",
       "      <th>3</th>\n",
       "      <td>0.000000</td>\n",
       "      <td>1.843797</td>\n",
       "      <td>2011-01-20 03:00:00</td>\n",
       "      <td>2</td>\n",
       "    </tr>\n",
       "    <tr>\n",
       "      <th>4</th>\n",
       "      <td>0.000000</td>\n",
       "      <td>1.843797</td>\n",
       "      <td>2011-01-20 04:00:00</td>\n",
       "      <td>2</td>\n",
       "    </tr>\n",
       "  </tbody>\n",
       "</table>\n",
       "</div>"
      ],
      "text/plain": [
       "   registered    casual             datetime  count\n",
       "0   14.864106  1.895701  2011-01-20 00:00:00     17\n",
       "1    3.292368  2.451388  2011-01-20 01:00:00      5\n",
       "2    0.000000  2.077474  2011-01-20 02:00:00      2\n",
       "3    0.000000  1.843797  2011-01-20 03:00:00      2\n",
       "4    0.000000  1.843797  2011-01-20 04:00:00      2"
      ]
     },
     "execution_count": 53,
     "metadata": {},
     "output_type": "execute_result"
    }
   ],
   "source": [
    "result.head()"
   ]
  },
  {
   "cell_type": "code",
   "execution_count": 54,
   "id": "d6246e98",
   "metadata": {},
   "outputs": [
    {
     "data": {
      "text/html": [
       "<div>\n",
       "<style scoped>\n",
       "    .dataframe tbody tr th:only-of-type {\n",
       "        vertical-align: middle;\n",
       "    }\n",
       "\n",
       "    .dataframe tbody tr th {\n",
       "        vertical-align: top;\n",
       "    }\n",
       "\n",
       "    .dataframe thead th {\n",
       "        text-align: right;\n",
       "    }\n",
       "</style>\n",
       "<table border=\"1\" class=\"dataframe\">\n",
       "  <thead>\n",
       "    <tr style=\"text-align: right;\">\n",
       "      <th></th>\n",
       "      <th>registered</th>\n",
       "      <th>casual</th>\n",
       "      <th>datetime</th>\n",
       "      <th>count</th>\n",
       "    </tr>\n",
       "  </thead>\n",
       "  <tbody>\n",
       "  </tbody>\n",
       "</table>\n",
       "</div>"
      ],
      "text/plain": [
       "Empty DataFrame\n",
       "Columns: [registered, casual, datetime, count]\n",
       "Index: []"
      ]
     },
     "execution_count": 54,
     "metadata": {},
     "output_type": "execute_result"
    }
   ],
   "source": [
    "\n",
    "\n",
    "result[result['count'] < 0]"
   ]
  },
  {
   "cell_type": "code",
   "execution_count": 55,
   "id": "f3f7c4c6",
   "metadata": {},
   "outputs": [],
   "source": [
    "result=result.drop(\"registered\",axis=1)\n",
    "\n",
    "result=result.drop(\"casual\",axis=1)"
   ]
  },
  {
   "cell_type": "code",
   "execution_count": 56,
   "id": "a22a21f4",
   "metadata": {},
   "outputs": [
    {
     "data": {
      "text/html": [
       "<div>\n",
       "<style scoped>\n",
       "    .dataframe tbody tr th:only-of-type {\n",
       "        vertical-align: middle;\n",
       "    }\n",
       "\n",
       "    .dataframe tbody tr th {\n",
       "        vertical-align: top;\n",
       "    }\n",
       "\n",
       "    .dataframe thead th {\n",
       "        text-align: right;\n",
       "    }\n",
       "</style>\n",
       "<table border=\"1\" class=\"dataframe\">\n",
       "  <thead>\n",
       "    <tr style=\"text-align: right;\">\n",
       "      <th></th>\n",
       "      <th>datetime</th>\n",
       "      <th>count</th>\n",
       "    </tr>\n",
       "  </thead>\n",
       "  <tbody>\n",
       "    <tr>\n",
       "      <th>0</th>\n",
       "      <td>2011-01-20 00:00:00</td>\n",
       "      <td>17</td>\n",
       "    </tr>\n",
       "    <tr>\n",
       "      <th>1</th>\n",
       "      <td>2011-01-20 01:00:00</td>\n",
       "      <td>5</td>\n",
       "    </tr>\n",
       "    <tr>\n",
       "      <th>2</th>\n",
       "      <td>2011-01-20 02:00:00</td>\n",
       "      <td>2</td>\n",
       "    </tr>\n",
       "    <tr>\n",
       "      <th>3</th>\n",
       "      <td>2011-01-20 03:00:00</td>\n",
       "      <td>2</td>\n",
       "    </tr>\n",
       "    <tr>\n",
       "      <th>4</th>\n",
       "      <td>2011-01-20 04:00:00</td>\n",
       "      <td>2</td>\n",
       "    </tr>\n",
       "  </tbody>\n",
       "</table>\n",
       "</div>"
      ],
      "text/plain": [
       "              datetime  count\n",
       "0  2011-01-20 00:00:00     17\n",
       "1  2011-01-20 01:00:00      5\n",
       "2  2011-01-20 02:00:00      2\n",
       "3  2011-01-20 03:00:00      2\n",
       "4  2011-01-20 04:00:00      2"
      ]
     },
     "execution_count": 56,
     "metadata": {},
     "output_type": "execute_result"
    }
   ],
   "source": [
    "result.head()"
   ]
  },
  {
   "cell_type": "code",
   "execution_count": 57,
   "id": "a27d29ae",
   "metadata": {},
   "outputs": [
    {
     "name": "stdout",
     "output_type": "stream",
     "text": [
      "Successfully submitted to Bike Sharing Demand\n"
     ]
    },
    {
     "name": "stderr",
     "output_type": "stream",
     "text": [
      "\n",
      "  0%|          | 0.00/156k [00:00<?, ?B/s]\n",
      "  5%|5         | 8.00k/156k [00:00<00:03, 44.9kB/s]\n",
      " 82%|########2 | 128k/156k [00:00<00:00, 516kB/s]  \n",
      "100%|##########| 156k/156k [00:01<00:00, 126kB/s]\n"
     ]
    }
   ],
   "source": [
    "submission=result\n",
    "\n",
    "submission.to_csv(\"submission.csv\", index=False)\n",
    "\n",
    "import json\n",
    "kaggle_key = \"9c72a930e84f7c1845fbc803dc7adfdc\"\n",
    "kaggle_username = \"kanericaws\"\n",
    "\n",
    "!kaggle competitions submit -c bike-sharing-demand -f submission.csv -m \"baseline using xgboost regressor\"\n"
   ]
  },
  {
   "cell_type": "code",
   "execution_count": null,
   "id": "5b0fa31b",
   "metadata": {},
   "outputs": [],
   "source": [
    "# predictor_c = TabularPredictor(label=\"casual\").fit(\n",
    "#     train_data=train_c, time_limit=120, presets=\"best_quality\"\n",
    "# )"
   ]
  },
  {
   "cell_type": "code",
   "execution_count": null,
   "id": "b73ef98f",
   "metadata": {},
   "outputs": [],
   "source": [
    "#y_pred_c = predictor_c.predict(test)"
   ]
  },
  {
   "cell_type": "code",
   "execution_count": null,
   "id": "77b66a2c",
   "metadata": {},
   "outputs": [],
   "source": [
    "# predictor_c.fit_summary()\n",
    "\n",
    "# ### Review AutoGluon's training run with ranking of models that did the best.\n",
    "\n",
    "# predictor_c.leaderboard(silent=True).plot(kind=\"bar\", x=\"model\", y=\"score_val\")\n",
    "\n",
    "# ### Create predictions from test dataset\n",
    "\n",
    "# print(\"AutoGluon infers problem type is: \", predictor_c.problem_type)\n",
    "# print(\"AutoGluon identified the following types of features:\")\n",
    "# print(predictor_c.feature_metadata)"
   ]
  },
  {
   "cell_type": "code",
   "execution_count": null,
   "id": "97727c99",
   "metadata": {},
   "outputs": [],
   "source": [
    "# import autogluon.core as ag\n",
    "# from sklearn.model_selection import train_test_split\n",
    "\n",
    "# nn_options = {  # specifies non-default hyperparameter values for neural network models\n",
    "#     'num_epochs': 20,  # number of training epochs (controls training time of NN models)\n",
    "#     'learning_rate': ag.space.Real(1e-4, 1e-2, default=5e-4, log=True),  # learning rate used in training (real-valued hyperparameter searched on log-scale)\n",
    "#     'activation': ag.space.Categorical('relu', 'softrelu', 'tanh'),  # activation function used in NN (categorical hyperparameter, default = first entry)\n",
    "#     'dropout_prob': ag.space.Real(0.0, 0.5, default=0.1),  # dropout probability (real-valued hyperparameter)\n",
    "# }\n",
    "\n",
    "# gbm_options = {  # specifies non-default hyperparameter values for lightGBM gradient boosted trees\n",
    "#     'num_boost_round': 100,  # number of boosting rounds (controls training time of GBM models)\n",
    "#     'num_leaves': ag.space.Int(lower=26, upper=66, default=36),  # number of leaves in trees (integer hyperparameter)\n",
    "#     #'num_leaves': ag.space.Int(lower=52, upper=132, default=72),  # number of leaves in trees (integer hyperparameter)\n",
    "\n",
    "# }\n",
    "\n",
    "# hyperparameters = {  # hyperparameters of each model type\n",
    "#                    'GBM': gbm_options,\n",
    "#                    'NN_TORCH': nn_options,  # NOTE: comment this line out if you get errors on Mac OSX\n",
    "#                   }  # When these keys are missing from hyperparameters dict, no models of that type are trained\n",
    "\n",
    "# time_limit = 4*60  # train various models for ~2 min\n",
    "# num_trials = 5  # try at most 5 different hyperparameter configurations for each type of model\n",
    "# search_strategy = 'auto'  # to tune hyperparameters using random search routine with a local scheduler\n",
    "\n",
    "# hyperparameter_tune_kwargs = {  # HPO is not performed unless hyperparameter_tune_kwargs is specified\n",
    "#     'num_trials': num_trials,\n",
    "#     'scheduler' : 'local',\n",
    "#     'searcher': search_strategy,\n",
    "# }\n",
    "\n",
    "\n",
    "\n",
    "# predictor_r = TabularPredictor(label=\"registered\",problem_type=\"regression\").fit(\n",
    "#     train_r_80, tuning_data=train_r_20, time_limit=time_limit,\n",
    "#     hyperparameters=hyperparameters, hyperparameter_tune_kwargs=hyperparameter_tune_kwargs,\n",
    "# )\n",
    "\n"
   ]
  },
  {
   "cell_type": "code",
   "execution_count": null,
   "id": "32a8f7da",
   "metadata": {},
   "outputs": [],
   "source": [
    "# train_c_80, train_c_20 = train_test_split(train_c, test_size=0.2, random_state=0)\n",
    "\n",
    "\n",
    "# predictor_c_p = TabularPredictor(label=\"casual\").fit(\n",
    "#     train_c_80, tuning_data=train_c_20, time_limit=time_limit,\n",
    "#     hyperparameters=hyperparameters, hyperparameter_tune_kwargs=hyperparameter_tune_kwargs,\n",
    "# )"
   ]
  },
  {
   "cell_type": "code",
   "execution_count": null,
   "id": "0002bb81",
   "metadata": {},
   "outputs": [],
   "source": [
    "# predictor_c_p.fit_summary()\n",
    "\n",
    "# ### Review AutoGluon's training run with ranking of models that did the best.\n",
    "\n",
    "# predictor_c_p.leaderboard(silent=True).plot(kind=\"bar\", x=\"model\", y=\"score_val\")\n",
    "\n",
    "### Create predictions from test dataset\n",
    "\n",
    "# print(\"AutoGluon infers problem type is: \", predictor_c.problem_type)\n",
    "# print(\"AutoGluon identified the following types of features:\")\n",
    "# print(predictor_c.feature_metadata)"
   ]
  },
  {
   "cell_type": "code",
   "execution_count": null,
   "id": "3622b5aa",
   "metadata": {},
   "outputs": [],
   "source": [
    "# predictor_c_p.fit_summary()\n",
    "\n",
    "# ### Review AutoGluon's training run with ranking of models that did the best.\n",
    "\n",
    "# predictor_c_p.leaderboard(silent=True).plot(kind=\"bar\", x=\"model\", y=\"score_val\")\n",
    "\n",
    "### Create predictions from test dataset\n",
    "\n",
    "# print(\"AutoGluon infers problem type is: \", predictor_c.problem_type)\n",
    "# print(\"AutoGluon identified the following types of features:\")\n",
    "# print(predictor_c.feature_metadata)"
   ]
  },
  {
   "cell_type": "code",
   "execution_count": null,
   "id": "bb0a573b",
   "metadata": {
    "scrolled": true
   },
   "outputs": [],
   "source": [
    "# predictor_r.fit_summary()\n",
    "\n",
    "# ### Review AutoGluon's training run with ranking of models that did the best.\n",
    "\n",
    "# predictor_r.leaderboard(silent=True).plot(kind=\"bar\", x=\"model\", y=\"score_val\")\n",
    "\n",
    "# ### Create predictions from test dataset\n",
    "\n",
    "# print(\"AutoGluon infers problem type is: \", predictor_c.problem_type)\n",
    "# print(\"AutoGluon identified the following types of features:\")\n",
    "# print(predictor_r.feature_metadata)"
   ]
  },
  {
   "cell_type": "code",
   "execution_count": null,
   "id": "fcb2f1e6",
   "metadata": {},
   "outputs": [],
   "source": [
    "# # # predict from specific model/stack\n",
    "# # #i = 0  # index of model to use\n",
    "\n",
    "# for i in range(0, 15):\n",
    "#     model_to_use = predictor_c_p.get_model_names()[i]\n",
    "# #y_pred_r = predictor_r.predict(test, model=model_to_use)\n",
    "#     print(i);print(model_to_use);\n",
    "#     #LightGBM\\T2"
   ]
  },
  {
   "cell_type": "code",
   "execution_count": null,
   "id": "696eb0ff",
   "metadata": {},
   "outputs": [],
   "source": [
    "# #test2 = pd.read_csv(\"test.csv\")\n",
    "# #test['dt_obj'] =pd.to_datetime(test2['datetime'], format='%Y-%m-%d %H:%M:%S')\n",
    "\n",
    "# # # predict from specific model/stack\n",
    "# i = 1  # index of model to use\n",
    "\n",
    "# #for i in range(0, 15):\n",
    "# model_to_use = predictor_c_p.get_model_names()[i]\n",
    "# y_pred_c = predictor_c_p.predict(test, model=model_to_use)\n",
    "# print(i);print(model_to_use);\n",
    "# #LightGBM\\T2\n"
   ]
  },
  {
   "cell_type": "code",
   "execution_count": null,
   "id": "90930ef8",
   "metadata": {},
   "outputs": [],
   "source": [
    "# i = 10  # index of model to use\n",
    "\n",
    "# for i in range(0, 11):\n",
    "#     model_to_use = predictor_r.get_model_names()[i]\n",
    "#     print(i);print(model_to_use);\n",
    "# #y_pred_r = predictor_r.predict(test, model=model_to_use)\n"
   ]
  },
  {
   "cell_type": "code",
   "execution_count": null,
   "id": "028a340d",
   "metadata": {
    "scrolled": true
   },
   "outputs": [],
   "source": [
    "# train_c_80, train_c_20 = train_test_split(train_c, test_size=0.2, random_state=0)\n",
    "\n",
    "# predictor_c = TabularPredictor(label=\"casual\",problem_type=\"regression\").fit(\n",
    "#     train_c_80, tuning_data=train_c_20, time_limit=time_limit,\n",
    "#     hyperparameters=hyperparameters, hyperparameter_tune_kwargs=hyperparameter_tune_kwargs,\n",
    "# )\n"
   ]
  },
  {
   "cell_type": "code",
   "execution_count": null,
   "id": "ba79ebc4",
   "metadata": {},
   "outputs": [],
   "source": [
    "# predictor_c.fit_summary()\n",
    "\n",
    "# ### Review AutoGluon's training run with ranking of models that did the best.\n",
    "\n",
    "# predictor_c.leaderboard(silent=True).plot(kind=\"bar\", x=\"model\", y=\"score_val\")\n",
    "\n",
    "# ### Create predictions from test dataset\n",
    "\n",
    "# print(\"AutoGluon infers problem type is: \", predictor_c.problem_type)\n",
    "# print(\"AutoGluon identified the following types of features:\")\n",
    "# print(predictor_c.feature_metadata)"
   ]
  },
  {
   "cell_type": "code",
   "execution_count": null,
   "id": "ae6653d1",
   "metadata": {},
   "outputs": [],
   "source": [
    "\n",
    "predictor_r = TabularPredictor(label=\"registered\").fit(\n",
    "    train_data=train_r, time_limit=180, presets=\"best_quality\"\n",
    ")\n",
    "\n"
   ]
  },
  {
   "cell_type": "code",
   "execution_count": null,
   "id": "607aa36c",
   "metadata": {},
   "outputs": [],
   "source": [
    "predictor_r.fit_summary()\n",
    "\n",
    "### Review AutoGluon's training run with ranking of models that did the best.\n",
    "\n",
    "predictor_r.leaderboard(silent=True).plot(kind=\"bar\", x=\"model\", y=\"score_val\")\n",
    "\n",
    "### Create predictions from test dataset\n",
    "\n",
    "# print(\"AutoGluon infers problem type is: \", predictor_c.problem_type)\n",
    "# print(\"AutoGluon identified the following types of features:\")\n",
    "# print(predictor_r.feature_metadata)"
   ]
  },
  {
   "cell_type": "code",
   "execution_count": null,
   "id": "4eb4c1ab",
   "metadata": {},
   "outputs": [],
   "source": [
    "predictor_c = TabularPredictor(label=\"casual\").fit(\n",
    "    train_data=train_c, time_limit=180, presets=\"best_quality\"\n",
    ")"
   ]
  },
  {
   "cell_type": "code",
   "execution_count": null,
   "id": "2aaa46aa",
   "metadata": {},
   "outputs": [],
   "source": [
    "# #test2 = pd.read_csv(\"test.csv\")\n",
    "# #test['dt_obj'] =pd.to_datetime(test2['datetime'], format='%Y-%m-%d %H:%M:%S')\n",
    "\n",
    "# # # predict from specific model/stack\n",
    "# #i = 1  # index of model to use\n",
    "\n",
    "# for i in range(0, 15):\n",
    "#     model_to_use = predictor_r.get_model_names()[i]\n",
    "# #y_pred_c = predictor_c_p.predict(test, model=model_to_use)\n",
    "#     print(i);print(model_to_use);\n",
    "# #LightGBM\\T2"
   ]
  },
  {
   "cell_type": "code",
   "execution_count": null,
   "id": "3e43e682",
   "metadata": {},
   "outputs": [],
   "source": [
    "# #test2 = pd.read_csv(\"test.csv\")\n",
    "# #test['dt_obj'] =pd.to_datetime(test2['datetime'], format='%Y-%m-%d %H:%M:%S')\n",
    "\n",
    "# # # predict from specific model/stack\n",
    "# i = 6  # index of model to use\n",
    "\n",
    "# #for i in range(0, 15):\n",
    "# model_to_use = predictor_r.get_model_names()[i]\n",
    "# print(i);print(model_to_use);\n",
    "\n",
    "# y_pred_r = predictor_r.predict(test, model=model_to_use)\n",
    "# #LightGBM\\T2"
   ]
  },
  {
   "cell_type": "code",
   "execution_count": null,
   "id": "2b781ec0",
   "metadata": {},
   "outputs": [],
   "source": [
    "predictor_c.fit_summary()\n",
    "\n",
    "### Review AutoGluon's training run with ranking of models that did the best.\n",
    "\n",
    "predictor_c.leaderboard(silent=True).plot(kind=\"bar\", x=\"model\", y=\"score_val\")\n",
    "\n",
    "### Create predictions from test dataset\n",
    "\n",
    "# print(\"AutoGluon infers problem type is: \", predictor_c.problem_type)\n",
    "# print(\"AutoGluon identified the following types of features:\")\n",
    "# print(predictor_c.feature_metadata)"
   ]
  },
  {
   "cell_type": "code",
   "execution_count": null,
   "id": "3cdf2788",
   "metadata": {},
   "outputs": [],
   "source": [
    "y_pred_r = predictor_r.predict(test)\n",
    "\n",
    "\n",
    "y_pred_c = predictor_c.predict(test)"
   ]
  },
  {
   "cell_type": "code",
   "execution_count": null,
   "id": "645c3726",
   "metadata": {},
   "outputs": [],
   "source": [
    "test.info()"
   ]
  },
  {
   "cell_type": "code",
   "execution_count": null,
   "id": "4c0f216d",
   "metadata": {},
   "outputs": [],
   "source": [
    "result = pd.concat([y_pred_r, y_pred_c], axis=1, join='inner')\n",
    "\n",
    "result['count']=(round(result['registered'])+result['casual']).astype('int')\n",
    "\n",
    "result=result.drop(\"registered\",axis=1)\n",
    "\n",
    "result=result.drop(\"casual\",axis=1)\n",
    "\n",
    "test3 = pd.read_csv(\"test.csv\")\n",
    "\n",
    "result['datetime']=test3['datetime']\n",
    "\n",
    "result[result['count'] < 0]"
   ]
  },
  {
   "cell_type": "code",
   "execution_count": null,
   "id": "cfc6e4c2",
   "metadata": {},
   "outputs": [],
   "source": [
    "\n",
    "\n",
    "\n",
    "\n",
    "\n",
    "\n",
    "result.loc[result['count'] < 0 , 'count'] = 0\n",
    "\n",
    "submission=result\n",
    "\n",
    "submission.to_csv(\"submission.csv\", index=False)\n",
    "\n",
    "import json\n",
    "kaggle_key = \"9c72a930e84f7c1845fbc803dc7adfdc\"\n",
    "\n",
    "!kaggle competitions submit -c bike-sharing-demand -f submission.csv -m \"baseline after feature eng\n",
    "kaggle_username = \"kanericaws\"innering\""
   ]
  },
  {
   "cell_type": "code",
   "execution_count": null,
   "id": "cf86bf6b",
   "metadata": {},
   "outputs": [],
   "source": []
  }
 ],
 "metadata": {
  "kernelspec": {
   "display_name": "Python 3 (ipykernel)",
   "language": "python",
   "name": "python3"
  },
  "language_info": {
   "codemirror_mode": {
    "name": "ipython",
    "version": 3
   },
   "file_extension": ".py",
   "mimetype": "text/x-python",
   "name": "python",
   "nbconvert_exporter": "python",
   "pygments_lexer": "ipython3",
   "version": "3.9.12"
  }
 },
 "nbformat": 4,
 "nbformat_minor": 5
}
